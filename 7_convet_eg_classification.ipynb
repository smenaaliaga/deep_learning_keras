{
 "cells": [
  {
   "cell_type": "markdown",
   "metadata": {},
   "source": [
    "# Ejemplo de convet para clasificación de perros y gatos\n",
    "\n",
    "El dataset esta disponible en: www.kaggle.com/c/dogs-vs-cats/data"
   ]
  },
  {
   "cell_type": "code",
   "execution_count": 1,
   "metadata": {
    "tags": []
   },
   "outputs": [],
   "source": [
    "import os, shutil"
   ]
  },
  {
   "cell_type": "code",
   "execution_count": 2,
   "metadata": {
    "tags": []
   },
   "outputs": [
    {
     "data": {
      "text/plain": [
       "'/tf/deep_learning_keras'"
      ]
     },
     "execution_count": 2,
     "metadata": {},
     "output_type": "execute_result"
    }
   ],
   "source": [
    "os.getcwd()"
   ]
  },
  {
   "cell_type": "code",
   "execution_count": 3,
   "metadata": {
    "tags": []
   },
   "outputs": [],
   "source": [
    "path = '/tf/deep_learning_keras/data/cats_and_dogs/'"
   ]
  },
  {
   "cell_type": "markdown",
   "metadata": {},
   "source": [
    "## Data cats"
   ]
  },
  {
   "cell_type": "code",
   "execution_count": 5,
   "metadata": {},
   "outputs": [],
   "source": [
    "# train_cats_dir\n",
    "fnames = ['cat.{}.jpg'.format(i) for i in range(1000)]\n",
    "for fname in fnames:\n",
    "    src = os.path.join(path + 'origin_dir/train', fname)\n",
    "    dst = os.path.join(path + 'train_dir/train_cats_dir', fname)\n",
    "    shutil.copyfile(src, dst)"
   ]
  },
  {
   "cell_type": "code",
   "execution_count": 6,
   "metadata": {},
   "outputs": [],
   "source": [
    "# validation_cats_dir\n",
    "fnames = ['cat.{}.jpg'.format(i) for i in range(1000, 1500)]\n",
    "for fname in fnames:\n",
    "    src = os.path.join(path + 'origin_dir/train', fname)\n",
    "    dst = os.path.join(path + 'validation_dir/validation_cats_dir', fname)\n",
    "    shutil.copyfile(src, dst)"
   ]
  },
  {
   "cell_type": "code",
   "execution_count": 7,
   "metadata": {},
   "outputs": [],
   "source": [
    "# test_cats_dir\n",
    "fnames = ['cat.{}.jpg'.format(i) for i in range(1500, 2000)]\n",
    "for fname in fnames:\n",
    "    src = os.path.join(path + 'origin_dir/train', fname)\n",
    "    dst = os.path.join(path + 'test_dir/test_cats_dir', fname)\n",
    "    shutil.copyfile(src, dst)"
   ]
  },
  {
   "cell_type": "markdown",
   "metadata": {},
   "source": [
    "## Data dogs"
   ]
  },
  {
   "cell_type": "code",
   "execution_count": 8,
   "metadata": {},
   "outputs": [],
   "source": [
    "# train_dogs_dir\n",
    "fnames = ['dog.{}.jpg'.format(i) for i in range(1000)]\n",
    "for fname in fnames:\n",
    "    src = os.path.join(path + 'origin_dir/train', fname)\n",
    "    dst = os.path.join(path + 'train_dir/train_dogs_dir', fname)\n",
    "    shutil.copyfile(src, dst)"
   ]
  },
  {
   "cell_type": "code",
   "execution_count": 9,
   "metadata": {},
   "outputs": [],
   "source": [
    "# validation_dogs_dir\n",
    "fnames = ['dog.{}.jpg'.format(i) for i in range(1000, 1500)]\n",
    "for fname in fnames:\n",
    "    src = os.path.join(path + 'origin_dir/train', fname)\n",
    "    dst = os.path.join(path + 'validation_dir/validation_dogs_dir', fname)\n",
    "    shutil.copyfile(src, dst)"
   ]
  },
  {
   "cell_type": "code",
   "execution_count": 10,
   "metadata": {},
   "outputs": [],
   "source": [
    "# test_dogs_dir\n",
    "fnames = ['dog.{}.jpg'.format(i) for i in range(1500, 2000)]\n",
    "for fname in fnames:\n",
    "    src = os.path.join(path + 'origin_dir/train', fname)\n",
    "    dst = os.path.join(path + 'test_dir/test_dogs_dir', fname)\n",
    "    shutil.copyfile(src, dst)"
   ]
  },
  {
   "cell_type": "code",
   "execution_count": 12,
   "metadata": {
    "tags": []
   },
   "outputs": [
    {
     "name": "stdout",
     "output_type": "stream",
     "text": [
      "total training cat images:  1000\n",
      "total training dog images:  1000\n",
      "total validation cat images:  500\n",
      "total validation dog images:  500\n",
      "total test cat images:  500\n",
      "total test cat images:  500\n"
     ]
    }
   ],
   "source": [
    "# Revion cantidades\n",
    "print('total training cat images: ', len(os.listdir(path + 'train_dir/train_cats_dir')))\n",
    "print('total training dog images: ', len(os.listdir(path + 'train_dir/train_dogs_dir')))\n",
    "\n",
    "print('total validation cat images: ', len(os.listdir(path + 'validation_dir/validation_cats_dir')))\n",
    "print('total validation dog images: ', len(os.listdir(path + 'validation_dir/validation_dogs_dir')))\n",
    "\n",
    "print('total test cat images: ', len(os.listdir(path + 'test_dir/test_cats_dir')))\n",
    "print('total test cat images: ', len(os.listdir(path + 'test_dir/test_cats_dir')))"
   ]
  },
  {
   "cell_type": "markdown",
   "metadata": {},
   "source": [
    "## Creacion de instancia de una convets"
   ]
  },
  {
   "cell_type": "code",
   "execution_count": 13,
   "metadata": {
    "tags": []
   },
   "outputs": [
    {
     "name": "stderr",
     "output_type": "stream",
     "text": [
      "Using TensorFlow backend.\n"
     ]
    }
   ],
   "source": [
    "from keras import layers\n",
    "from keras import models\n",
    "\n",
    "model = models.Sequential()\n",
    "model.add(layers.Conv2D(32, (3, 3), activation='relu', input_shape=(150, 150, 3)))\n",
    "model.add(layers.MaxPooling2D((2, 2)))\n",
    "model.add(layers.Conv2D(64, (3, 3), activation='relu'))\n",
    "model.add(layers.MaxPooling2D((2, 2)))\n",
    "model.add(layers.Conv2D(128, (3, 3), activation='relu'))\n",
    "model.add(layers.MaxPooling2D((2, 2)))\n",
    "model.add(layers.Flatten())\n",
    "model.add(layers.Dense(521, activation='relu'))\n",
    "model.add(layers.Dense(1, activation='sigmoid'))"
   ]
  },
  {
   "cell_type": "code",
   "execution_count": 14,
   "metadata": {
    "tags": []
   },
   "outputs": [
    {
     "name": "stdout",
     "output_type": "stream",
     "text": [
      "Model: \"sequential_1\"\n",
      "_________________________________________________________________\n",
      "Layer (type)                 Output Shape              Param #   \n",
      "=================================================================\n",
      "conv2d_1 (Conv2D)            (None, 148, 148, 32)      896       \n",
      "_________________________________________________________________\n",
      "max_pooling2d_1 (MaxPooling2 (None, 74, 74, 32)        0         \n",
      "_________________________________________________________________\n",
      "conv2d_2 (Conv2D)            (None, 72, 72, 64)        18496     \n",
      "_________________________________________________________________\n",
      "max_pooling2d_2 (MaxPooling2 (None, 36, 36, 64)        0         \n",
      "_________________________________________________________________\n",
      "conv2d_3 (Conv2D)            (None, 34, 34, 128)       73856     \n",
      "_________________________________________________________________\n",
      "max_pooling2d_3 (MaxPooling2 (None, 17, 17, 128)       0         \n",
      "_________________________________________________________________\n",
      "flatten_1 (Flatten)          (None, 36992)             0         \n",
      "_________________________________________________________________\n",
      "dense_1 (Dense)              (None, 521)               19273353  \n",
      "_________________________________________________________________\n",
      "dense_2 (Dense)              (None, 1)                 522       \n",
      "=================================================================\n",
      "Total params: 19,367,123\n",
      "Trainable params: 19,367,123\n",
      "Non-trainable params: 0\n",
      "_________________________________________________________________\n"
     ]
    }
   ],
   "source": [
    "model.summary()"
   ]
  },
  {
   "cell_type": "code",
   "execution_count": 15,
   "metadata": {
    "tags": []
   },
   "outputs": [],
   "source": [
    "from keras import optimizers\n",
    "\n",
    "model.compile(loss='binary_crossentropy',\n",
    "              optimizer=optimizers.RMSprop(learning_rate=1e-4),\n",
    "              metrics=['accuracy'])"
   ]
  },
  {
   "cell_type": "code",
   "execution_count": 16,
   "metadata": {
    "tags": []
   },
   "outputs": [],
   "source": [
    "# Utilizar ImageDataGenerator para leer imagenes del directorio\n",
    "from keras.preprocessing.image import ImageDataGenerator\n",
    "\n",
    "train_datagen = ImageDataGenerator(rescale=1./255)\n",
    "test_datagen = ImageDataGenerator(rescale=1./255)"
   ]
  },
  {
   "cell_type": "code",
   "execution_count": 17,
   "metadata": {
    "tags": []
   },
   "outputs": [
    {
     "name": "stdout",
     "output_type": "stream",
     "text": [
      "Found 2000 images belonging to 2 classes.\n"
     ]
    }
   ],
   "source": [
    "train_generator = train_datagen.flow_from_directory(\n",
    "    path + 'train_dir',\n",
    "    target_size=(150, 150),\n",
    "    batch_size=20,\n",
    "    class_mode='binary'\n",
    ")"
   ]
  },
  {
   "cell_type": "code",
   "execution_count": 18,
   "metadata": {
    "tags": []
   },
   "outputs": [
    {
     "name": "stdout",
     "output_type": "stream",
     "text": [
      "Found 1000 images belonging to 2 classes.\n"
     ]
    }
   ],
   "source": [
    "# Produce:\n",
    "# lotes de imagenes RGB de 150 x 150 con forma: (20, 150 150, 3)\n",
    "# etiquetas binarias con forma: (20,)\n",
    "validation_generator = test_datagen.flow_from_directory(\n",
    "    path + 'validation_dir',\n",
    "    target_size=(150, 150),\n",
    "    batch_size=20,\n",
    "    class_mode='binary'\n",
    ") "
   ]
  },
  {
   "cell_type": "code",
   "execution_count": 19,
   "metadata": {
    "tags": []
   },
   "outputs": [
    {
     "name": "stdout",
     "output_type": "stream",
     "text": [
      "data batch shape:  (20, 150, 150, 3)\n",
      "data batch shape:  (20,)\n"
     ]
    }
   ],
   "source": [
    "for data_batch, labels_batch in train_generator:\n",
    "    print('data batch shape: ', data_batch.shape)\n",
    "    print('data batch shape: ', labels_batch.shape)\n",
    "    break"
   ]
  },
  {
   "cell_type": "code",
   "execution_count": 20,
   "metadata": {
    "tags": []
   },
   "outputs": [
    {
     "name": "stdout",
     "output_type": "stream",
     "text": [
      "Epoch 1/30\n",
      "100/100 [==============================] - 12s 125ms/step - loss: 0.7031 - accuracy: 0.5615 - val_loss: 0.6294 - val_accuracy: 0.5660\n",
      "Epoch 2/30\n",
      "100/100 [==============================] - 5s 47ms/step - loss: 0.6217 - accuracy: 0.6630 - val_loss: 0.8863 - val_accuracy: 0.5170\n",
      "Epoch 3/30\n",
      "100/100 [==============================] - 5s 47ms/step - loss: 0.5567 - accuracy: 0.7210 - val_loss: 0.6206 - val_accuracy: 0.7010\n",
      "Epoch 4/30\n",
      "100/100 [==============================] - 5s 47ms/step - loss: 0.5070 - accuracy: 0.7535 - val_loss: 0.5246 - val_accuracy: 0.7020\n",
      "Epoch 5/30\n",
      "100/100 [==============================] - 5s 48ms/step - loss: 0.4704 - accuracy: 0.7810 - val_loss: 0.7629 - val_accuracy: 0.6940\n",
      "Epoch 6/30\n",
      "100/100 [==============================] - 5s 47ms/step - loss: 0.4194 - accuracy: 0.8090 - val_loss: 1.0438 - val_accuracy: 0.6180\n",
      "Epoch 7/30\n",
      "100/100 [==============================] - 5s 47ms/step - loss: 0.3871 - accuracy: 0.8275 - val_loss: 0.9320 - val_accuracy: 0.7150\n",
      "Epoch 8/30\n",
      "100/100 [==============================] - 5s 47ms/step - loss: 0.3492 - accuracy: 0.8435 - val_loss: 0.7895 - val_accuracy: 0.6960\n",
      "Epoch 9/30\n",
      "100/100 [==============================] - 5s 47ms/step - loss: 0.3166 - accuracy: 0.8725 - val_loss: 0.5247 - val_accuracy: 0.7140\n",
      "Epoch 10/30\n",
      "100/100 [==============================] - 5s 46ms/step - loss: 0.2787 - accuracy: 0.8875 - val_loss: 0.6803 - val_accuracy: 0.7230\n",
      "Epoch 11/30\n",
      "100/100 [==============================] - 5s 47ms/step - loss: 0.2479 - accuracy: 0.9080 - val_loss: 0.8694 - val_accuracy: 0.7220\n",
      "Epoch 12/30\n",
      "100/100 [==============================] - 5s 47ms/step - loss: 0.2119 - accuracy: 0.9265 - val_loss: 0.7736 - val_accuracy: 0.7170\n",
      "Epoch 13/30\n",
      "100/100 [==============================] - 5s 47ms/step - loss: 0.1884 - accuracy: 0.9335 - val_loss: 0.9150 - val_accuracy: 0.7090\n",
      "Epoch 14/30\n",
      "100/100 [==============================] - 5s 47ms/step - loss: 0.1582 - accuracy: 0.9465 - val_loss: 0.3394 - val_accuracy: 0.7200\n",
      "Epoch 15/30\n",
      "100/100 [==============================] - 5s 47ms/step - loss: 0.1401 - accuracy: 0.9585 - val_loss: 0.7661 - val_accuracy: 0.7110\n",
      "Epoch 16/30\n",
      "100/100 [==============================] - 5s 48ms/step - loss: 0.1149 - accuracy: 0.9665 - val_loss: 1.1133 - val_accuracy: 0.7220\n",
      "Epoch 17/30\n",
      "100/100 [==============================] - 5s 49ms/step - loss: 0.0974 - accuracy: 0.9735 - val_loss: 0.3712 - val_accuracy: 0.7190\n",
      "Epoch 18/30\n",
      "100/100 [==============================] - 5s 47ms/step - loss: 0.0841 - accuracy: 0.9755 - val_loss: 1.0460 - val_accuracy: 0.7200\n",
      "Epoch 19/30\n",
      "100/100 [==============================] - 5s 49ms/step - loss: 0.0663 - accuracy: 0.9845 - val_loss: 0.5883 - val_accuracy: 0.7230\n",
      "Epoch 20/30\n",
      "100/100 [==============================] - 5s 47ms/step - loss: 0.0482 - accuracy: 0.9900 - val_loss: 0.5789 - val_accuracy: 0.7210\n",
      "Epoch 21/30\n",
      "100/100 [==============================] - 5s 50ms/step - loss: 0.0420 - accuracy: 0.9905 - val_loss: 0.9549 - val_accuracy: 0.7330\n",
      "Epoch 22/30\n",
      "100/100 [==============================] - 5s 52ms/step - loss: 0.0307 - accuracy: 0.9940 - val_loss: 1.2211 - val_accuracy: 0.7160\n",
      "Epoch 23/30\n",
      "100/100 [==============================] - 5s 49ms/step - loss: 0.0290 - accuracy: 0.9925 - val_loss: 1.4662 - val_accuracy: 0.7240\n",
      "Epoch 24/30\n",
      "100/100 [==============================] - 5s 49ms/step - loss: 0.0268 - accuracy: 0.9935 - val_loss: 1.6991 - val_accuracy: 0.6950\n",
      "Epoch 25/30\n",
      "100/100 [==============================] - 5s 50ms/step - loss: 0.0223 - accuracy: 0.9945 - val_loss: 0.4069 - val_accuracy: 0.7210\n",
      "Epoch 26/30\n",
      "100/100 [==============================] - 5s 50ms/step - loss: 0.0212 - accuracy: 0.9935 - val_loss: 0.8669 - val_accuracy: 0.7110\n",
      "Epoch 27/30\n",
      "100/100 [==============================] - 5s 49ms/step - loss: 0.0319 - accuracy: 0.9895 - val_loss: 0.6845 - val_accuracy: 0.7180\n",
      "Epoch 28/30\n",
      "100/100 [==============================] - 5s 52ms/step - loss: 0.0083 - accuracy: 0.9985 - val_loss: 2.1454 - val_accuracy: 0.7230\n",
      "Epoch 29/30\n",
      "100/100 [==============================] - 5s 49ms/step - loss: 0.0126 - accuracy: 0.9960 - val_loss: 1.1346 - val_accuracy: 0.7260\n",
      "Epoch 30/30\n",
      "100/100 [==============================] - 5s 49ms/step - loss: 0.0162 - accuracy: 0.9965 - val_loss: 3.1118 - val_accuracy: 0.7250\n"
     ]
    }
   ],
   "source": [
    "# Ajuste del modelo utilizando un generador por lotes\n",
    "history = model.fit(\n",
    "    train_generator,\n",
    "    steps_per_epoch=100,\n",
    "    epochs=30,\n",
    "    validation_data=validation_generator,\n",
    "    validation_steps=50\n",
    ")"
   ]
  },
  {
   "cell_type": "code",
   "execution_count": 21,
   "metadata": {
    "tags": []
   },
   "outputs": [],
   "source": [
    "# Guardar el modelo\n",
    "model.save('models/cats_and_dogs_small_1.keras')"
   ]
  },
  {
   "cell_type": "code",
   "execution_count": 22,
   "metadata": {
    "tags": []
   },
   "outputs": [
    {
     "data": {
      "image/png": "[encoded data removed]",
      "text/plain": [
       "<Figure size 432x288 with 1 Axes>"
      ]
     },
     "metadata": {
      "needs_background": "light"
     },
     "output_type": "display_data"
    },
    {
     "data": {
      "image/png": "[encoded data removed]",
      "text/plain": [
       "<Figure size 432x288 with 1 Axes>"
      ]
     },
     "metadata": {
      "needs_background": "light"
     },
     "output_type": "display_data"
    }
   ],
   "source": [
    "# Plot de curvas de perdida y exactitud durante el entrenamiento\n",
    "import matplotlib.pyplot as plt\n",
    "\n",
    "acc = history.history['accuracy']\n",
    "val_acc = history.history['val_accuracy']\n",
    "loss = history.history['loss']\n",
    "val_loss = history.history['val_loss']\n",
    "\n",
    "epochs = range(1, len(acc) + 1)\n",
    "\n",
    "plt.plot(epochs, acc, 'bo', label='Training acc')\n",
    "plt.plot(epochs, val_acc, 'b', label='Validation acc')\n",
    "plt.title('Training and Validation accuracy')\n",
    "plt.legend()\n",
    "\n",
    "plt.figure()\n",
    "\n",
    "plt.plot(epochs, loss, 'bo', label='Training loss')\n",
    "plt.plot(epochs, val_loss, 'b', label='Validation loss')\n",
    "plt.title('Training and Validation loss')\n",
    "plt.legend()\n",
    "\n",
    "plt.show()"
   ]
  }
 ],
 "metadata": {
  "kernelspec": {
   "display_name": "Python 3",
   "language": "python",
   "name": "python3"
  },
  "language_info": {
   "codemirror_mode": {
    "name": "ipython",
    "version": 3
   },
   "file_extension": ".py",
   "mimetype": "text/x-python",
   "name": "python",
   "nbconvert_exporter": "python",
   "pygments_lexer": "ipython3",
   "version": "3.6.9"
  }
 },
 "nbformat": 4,
 "nbformat_minor": 5
}
