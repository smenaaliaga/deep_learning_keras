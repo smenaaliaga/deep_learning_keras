{
 "cells": [
  {
   "cell_type": "markdown",
   "id": "30f30d48-5356-44fd-ad34-9aa5b6b402fc",
   "metadata": {},
   "source": [
    "# Procesamiento de datos para Redes Neuronales\n",
    "\n",
    "El objetivo es que los datos brutos sean lo más asequibles para las redes. El procesamiento incluye:\n",
    "- vectorización\n",
    "- normalización\n",
    "- manejor de valores faltantes\n",
    "- extracción de características"
   ]
  },
  {
   "cell_type": "markdown",
   "id": "8225f32a-5cbc-4187-a525-268f65dd29e4",
   "metadata": {},
   "source": [
    "## Vectorización\n",
    "\n",
    "Todas las entradas y objetivos de una red deben ser tensores de datos de punto flotante (o enteros en algunos casos)."
   ]
  },
  {
   "cell_type": "markdown",
   "id": "66fecd81-4ad4-4bcc-9fe1-7a66194932ad",
   "metadata": {},
   "source": [
    "## Normalización de datos\n",
    "\n",
    "Los valores de los datos deben normalizarse, de tal forma que los valores sean de punto flotante (float32 o 64) en un rango 0-1.\n",
    "Si se cuenta con datos heterogeneos con escalas diferentes, puede haber problemas de convergencia en la busqueda del mínimo local."
   ]
  },
  {
   "cell_type": "markdown",
   "id": "3a609a4f-f0bb-4ee3-a49e-68143e43e7d0",
   "metadata": {},
   "source": [
    "## Manejo de valores faltantes\n",
    "\n",
    "Es posible que a veces faltes valores en los datos. En general, al trabajar con redes neuronales, conviene introducir los valores faltantes como 0, siempre que 0 no sea un valor significativo."
   ]
  },
  {
   "cell_type": "markdown",
   "id": "35f81be0-6ddc-4f4d-9623-71f9131eca3a",
   "metadata": {},
   "source": [
    "## Ingeniería de características\n",
    "\n",
    "Este proceso usa el conocimiento sobre los datos para que los modelos de _machine learning_ para que funcionen mejor.\n",
    "\n",
    "En muchas ocasiones, no es totalmente razonable esperar que un modelo de _machine learning_ sea capaz de aprender datos totalmente arbritrarios.\n",
    "\n",
    "Los modelos de _deep learning_ moderno como las redes neuronales convolucionales eliminan la necesidad de la mayor parte de la ingenería de características.\n"
   ]
  }
 ],
 "metadata": {
  "kernelspec": {
   "display_name": "Python 3 (ipykernel)",
   "language": "python",
   "name": "python3"
  },
  "language_info": {
   "codemirror_mode": {
    "name": "ipython",
    "version": 3
   },
   "file_extension": ".py",
   "mimetype": "text/x-python",
   "name": "python",
   "nbconvert_exporter": "python",
   "pygments_lexer": "ipython3",
   "version": "3.8.8"
  }
 },
 "nbformat": 4,
 "nbformat_minor": 5
}
