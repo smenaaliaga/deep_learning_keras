{
 "cells": [
  {
   "cell_type": "code",
   "execution_count": 1,
   "id": "30751bce-c8b2-4938-94f4-aa69ae354731",
   "metadata": {},
   "outputs": [],
   "source": [
    "import tensorflow as tf\n",
    "from tensorflow import keras"
   ]
  },
  {
   "cell_type": "code",
   "execution_count": 2,
   "id": "8a624888-e6ab-4903-98fc-6b119b6eee3e",
   "metadata": {},
   "outputs": [
    {
     "data": {
      "text/plain": [
       "'2.9.1'"
      ]
     },
     "execution_count": 2,
     "metadata": {},
     "output_type": "execute_result"
    }
   ],
   "source": [
    "tf.__version__"
   ]
  },
  {
   "cell_type": "code",
   "execution_count": 3,
   "id": "6a798701-a03c-4b76-824e-2b7cad3b274e",
   "metadata": {},
   "outputs": [
    {
     "data": {
      "text/plain": [
       "'2.9.0'"
      ]
     },
     "execution_count": 3,
     "metadata": {},
     "output_type": "execute_result"
    }
   ],
   "source": [
    "keras.__version__"
   ]
  },
  {
   "cell_type": "markdown",
   "id": "aaead920-3109-4847-a8f4-0941b1697b42",
   "metadata": {},
   "source": [
    "# Perceptron\n",
    "\n",
    "El \"perceptrón\" es una de las arquitecturas de RNA más sencillas, creada en 1957 por Frank Rosenblatt. Se basa en una neurona artificial ligeramente diferente llamada Unidad Lógica Umbral (ULU).\n",
    "\n",
    "Las entradas y salidas son números (en lugar de activadores binarios) y cada conexión de entrada está asociada a un peso.\n",
    "\n",
    "La ULU cálcula una suma ponderada de sus entrada ($ x = w_1 x_1 + w_2 x_2 + ... + w_n x_n = X^T W $) y luego aplica una función escalonada a esa suma para producir el resultado (output): $ h_w (X) = step(z) $, donde $ z = X^T W $ \n",
    "\n",
    "<img src=\"https://quantstartmedia.s3.amazonaws.com/images/article-images/articles/introduction-to-artificial-neural-networks-and-the-perceptron/perceptron.png\"  width=\"500\" height=\"500\">\n",
    "\n",
    "La función escalonada que se utiliza frecuentemente en los perceptrones es la función escalonada Heaviside\n",
    "\n",
    "$ Heavise(z) = $ { $ 0 $ si $ z < 0 $ ; $ 1 $ si $ z \\geq 0 $\n",
    "\n",
    "Un perceptrón consta de una sola capa ULU. Cuando todas las neuronas de una capa estan conectadas a todas las neuronas de la capa anterior (neuronas de entrada), estamos ante una capa completamente conectada o densa.\n",
    "\n",
    "Se suele añadir una capa de sesgo adicional ($ x_0 = 1 $): representada por una neurona de sesgo que produce 1 todo el tiempo.\n",
    "\n",
    "La siguiente imagen representa un perceptróm con dos entradas y tres salidas, este perceptrón puede clasificar simultaneamente tres clases binarias diferentes, siendo un clasificador multisalida.\n",
    "\n",
    "<img src=\"https://www.danli.org/2021/06/21/hands-on-machine-learning-keras/chapters/10/10.5.png\"  width=\"500\" height=\"500\">\n",
    "\n",
    "Se puede cálcular con eficiencia la salida de una capa de neurona para varias instancias:\n",
    "\n",
    "$ h_{W, b} (X) = \\phi (XW + b) $\n",
    "\n",
    "En la ecuación tenemos:\n",
    "\n",
    "- $X$: Matriz de características de entrada. Una fila por instancia y una columna por característica.\n",
    "- $W$: Matriz de pesos de conexión, excepto la neurona de sesgo. Tiene una fila por neurona de entrada y una columna por neurona artificial en la capa.\n",
    "- $b$: Vector de sesgo, que contiene todos los pesos de conexión entre la neurona de sesgo y las neuronas artificiales.\n",
    "- $\\phi$: Función de activación: cuando las neuronas artificiales son ULU, es una función escalonada pero hay otras.\n",
    "\n",
    "## ¿Cómo se entrena un perceptrón?\n",
    "\n",
    "El algoritmo de entrenamiento del perceptrón se basa en la regla de Hebb de su libro de 1949, Organización de la Conducta (Debate), donde se sugiere que cuando una neurona biologica activa a otra, con frecuencia la conexión entre estas dos se fortalece. \n",
    "\n",
    "Los perceptrones se entrenan con una variación de esta regla que tiene en cuenta el error cometido por la red cuando hace una predicción. El perceptrón recibe las instancias de entrenamiento y realiza sus predicciones para cada instancia, Por cada neurona de salida que produce una predicción erronea, refueza los pesos de conexión a partir de las entradas que habrían contribuido a la predicción correcta. La regla de aprendizaje es la siguiente:\n",
    "\n",
    "$ w_{i,j}^{Siguiente} =  w_{i,j} + \\eta(y_j - \\hat{y}_j) x_i $\n",
    "\n",
    "- $w_{i, j}$: El peso de conexión entre la i-esima neurona de entrada y la j-esima neurona de salida.\n",
    "- $x_i$: El valor de la i-esima neurona de salida para la instancia de entrenamiento actual.\n",
    "- $\\hat{y}_j$: El valor de salida de la j-esima neurona para la instancia de entrenamiento actual.\n",
    "- $y_i$: El valor objetivo de la j-esima neurona para la instancia de entrenamiento actual.\n",
    "- $\\eta$: Tasa de aprendizaje.\n",
    "\n",
    "El límite de decisión de cada neurona es lineal, así que los perceptrones son incapaces de aprender patrones complejos. Sin embargo, las instancias de entrenamiento son separables linealmente, lo que permite converger a uan solución.\n",
    "\n",
    "La instancia en Scikit-Learn orfdere una solución para el perceptrón."
   ]
  },
  {
   "cell_type": "code",
   "execution_count": 18,
   "id": "c9c9938a-a7c2-44c0-95ed-cf936150351c",
   "metadata": {},
   "outputs": [],
   "source": [
    "import numpy as np\n",
    "from sklearn.datasets import load_iris\n",
    "from sklearn.linear_model import Perceptron"
   ]
  },
  {
   "cell_type": "code",
   "execution_count": 20,
   "id": "a818088d-af61-487d-980e-c114ea6858ee",
   "metadata": {},
   "outputs": [],
   "source": [
    "iris = load_iris()\n",
    "X = iris.data[:, (2,3)] # longitud de pétalo, anchura del pétalo\n",
    "y = (iris.target == 0).astype(np.int32) # ¿Iris setosa?"
   ]
  },
  {
   "cell_type": "code",
   "execution_count": 21,
   "id": "d414901c-c5f8-427a-806a-06576ac573cc",
   "metadata": {},
   "outputs": [
    {
     "data": {
      "text/html": [
       "<style>#sk-container-id-1 {color: black;background-color: white;}#sk-container-id-1 pre{padding: 0;}#sk-container-id-1 div.sk-toggleable {background-color: white;}#sk-container-id-1 label.sk-toggleable__label {cursor: pointer;display: block;width: 100%;margin-bottom: 0;padding: 0.3em;box-sizing: border-box;text-align: center;}#sk-container-id-1 label.sk-toggleable__label-arrow:before {content: \"▸\";float: left;margin-right: 0.25em;color: #696969;}#sk-container-id-1 label.sk-toggleable__label-arrow:hover:before {color: black;}#sk-container-id-1 div.sk-estimator:hover label.sk-toggleable__label-arrow:before {color: black;}#sk-container-id-1 div.sk-toggleable__content {max-height: 0;max-width: 0;overflow: hidden;text-align: left;background-color: #f0f8ff;}#sk-container-id-1 div.sk-toggleable__content pre {margin: 0.2em;color: black;border-radius: 0.25em;background-color: #f0f8ff;}#sk-container-id-1 input.sk-toggleable__control:checked~div.sk-toggleable__content {max-height: 200px;max-width: 100%;overflow: auto;}#sk-container-id-1 input.sk-toggleable__control:checked~label.sk-toggleable__label-arrow:before {content: \"▾\";}#sk-container-id-1 div.sk-estimator input.sk-toggleable__control:checked~label.sk-toggleable__label {background-color: #d4ebff;}#sk-container-id-1 div.sk-label input.sk-toggleable__control:checked~label.sk-toggleable__label {background-color: #d4ebff;}#sk-container-id-1 input.sk-hidden--visually {border: 0;clip: rect(1px 1px 1px 1px);clip: rect(1px, 1px, 1px, 1px);height: 1px;margin: -1px;overflow: hidden;padding: 0;position: absolute;width: 1px;}#sk-container-id-1 div.sk-estimator {font-family: monospace;background-color: #f0f8ff;border: 1px dotted black;border-radius: 0.25em;box-sizing: border-box;margin-bottom: 0.5em;}#sk-container-id-1 div.sk-estimator:hover {background-color: #d4ebff;}#sk-container-id-1 div.sk-parallel-item::after {content: \"\";width: 100%;border-bottom: 1px solid gray;flex-grow: 1;}#sk-container-id-1 div.sk-label:hover label.sk-toggleable__label {background-color: #d4ebff;}#sk-container-id-1 div.sk-serial::before {content: \"\";position: absolute;border-left: 1px solid gray;box-sizing: border-box;top: 0;bottom: 0;left: 50%;z-index: 0;}#sk-container-id-1 div.sk-serial {display: flex;flex-direction: column;align-items: center;background-color: white;padding-right: 0.2em;padding-left: 0.2em;position: relative;}#sk-container-id-1 div.sk-item {position: relative;z-index: 1;}#sk-container-id-1 div.sk-parallel {display: flex;align-items: stretch;justify-content: center;background-color: white;position: relative;}#sk-container-id-1 div.sk-item::before, #sk-container-id-1 div.sk-parallel-item::before {content: \"\";position: absolute;border-left: 1px solid gray;box-sizing: border-box;top: 0;bottom: 0;left: 50%;z-index: -1;}#sk-container-id-1 div.sk-parallel-item {display: flex;flex-direction: column;z-index: 1;position: relative;background-color: white;}#sk-container-id-1 div.sk-parallel-item:first-child::after {align-self: flex-end;width: 50%;}#sk-container-id-1 div.sk-parallel-item:last-child::after {align-self: flex-start;width: 50%;}#sk-container-id-1 div.sk-parallel-item:only-child::after {width: 0;}#sk-container-id-1 div.sk-dashed-wrapped {border: 1px dashed gray;margin: 0 0.4em 0.5em 0.4em;box-sizing: border-box;padding-bottom: 0.4em;background-color: white;}#sk-container-id-1 div.sk-label label {font-family: monospace;font-weight: bold;display: inline-block;line-height: 1.2em;}#sk-container-id-1 div.sk-label-container {text-align: center;}#sk-container-id-1 div.sk-container {/* jupyter's `normalize.less` sets `[hidden] { display: none; }` but bootstrap.min.css set `[hidden] { display: none !important; }` so we also need the `!important` here to be able to override the default hidden behavior on the sphinx rendered scikit-learn.org. See: https://github.com/scikit-learn/scikit-learn/issues/21755 */display: inline-block !important;position: relative;}#sk-container-id-1 div.sk-text-repr-fallback {display: none;}</style><div id=\"sk-container-id-1\" class=\"sk-top-container\"><div class=\"sk-text-repr-fallback\"><pre>Perceptron()</pre><b>In a Jupyter environment, please rerun this cell to show the HTML representation or trust the notebook. <br />On GitHub, the HTML representation is unable to render, please try loading this page with nbviewer.org.</b></div><div class=\"sk-container\" hidden><div class=\"sk-item\"><div class=\"sk-estimator sk-toggleable\"><input class=\"sk-toggleable__control sk-hidden--visually\" id=\"sk-estimator-id-1\" type=\"checkbox\" checked><label for=\"sk-estimator-id-1\" class=\"sk-toggleable__label sk-toggleable__label-arrow\">Perceptron</label><div class=\"sk-toggleable__content\"><pre>Perceptron()</pre></div></div></div></div></div>"
      ],
      "text/plain": [
       "Perceptron()"
      ]
     },
     "execution_count": 21,
     "metadata": {},
     "output_type": "execute_result"
    }
   ],
   "source": [
    "clf = Perceptron()\n",
    "clf.fit(X, y)"
   ]
  },
  {
   "cell_type": "code",
   "execution_count": 24,
   "id": "0c4af77b-db24-4a7f-88d4-eb5e00aadcea",
   "metadata": {},
   "outputs": [
    {
     "data": {
      "text/plain": [
       "array([0], dtype=int32)"
      ]
     },
     "execution_count": 24,
     "metadata": {},
     "output_type": "execute_result"
    }
   ],
   "source": [
    "y_pred = clf.predict([[2, 0.5]])\n",
    "y_pred"
   ]
  },
  {
   "cell_type": "markdown",
   "id": "fc85cdfa-1aff-4d30-8323-6354903a7bb6",
   "metadata": {},
   "source": [
    "Los perceptrones no permiten obtener probabilidades, sino que hacen predicciones basándose en un umbral duro, por eso es deseable una regresión logistica."
   ]
  },
  {
   "cell_type": "markdown",
   "id": "129bc133-372e-462f-9a7a-c0994f50e7ec",
   "metadata": {},
   "source": [
    "# Perceptrón Multicapa (PMC) y la retropropagación\n",
    "\n",
    "Un PMC consta de una capa de entrada (transito), una o varias capas de ULU (llamada capas ocultas) y una última capa de ULU (capa de salida).Las capas cercanas a la entrada suelen llamarse \"capas inferiores\", y las próximas a la salida \"capas superiores\". Cada capa, excepto la de salida, incluye una neurona de sesgo y está completamente conectada a la siguiente capa.\n",
    "\n",
    "<img src=\"https://www.danli.org/2021/06/21/hands-on-machine-learning-keras/chapters/10/10.9.png\"  width=\"500\" height=\"500\">\n",
    "\n",
    "Cuando una RNA contiene una pila profunda de capas ocultas, se habla de una Red Neuronal Profunda (RNP). En el campo del Deep Learning se estudia RNA y, en general, modelos que contienen pilas profundas de cálculos. \n",
    "\n",
    "## Retropropagación\n",
    "\n",
    "Es un método de entrenamiento de los PMC, propuesto en 1986, que introduce la retropropagación, similar a las técnicas de gradiente descendiente: en solo dos pasos (hacía delante y atrás) la red puede cálcular el gradiente de error de la red respecto a cada parámetro del modelo. En otras palabras, puede averiguar cómo habría que ajustar cada peso de conexión y cada término de sesgo para reducir el error."
   ]
  },
  {
   "cell_type": "markdown",
   "id": "d994f2f5-5637-4015-bb45-5be0158d629a",
   "metadata": {},
   "source": [
    "# Implementación de PMC con Keras"
   ]
  },
  {
   "cell_type": "markdown",
   "id": "249b29c0-3d37-4678-9a78-d571a72aa6cf",
   "metadata": {},
   "source": [
    "## Extracción de datos Fashion MNIST"
   ]
  },
  {
   "cell_type": "code",
   "execution_count": 5,
   "id": "9ef4ac95-0c5e-47de-a51c-61fb2b22fe6f",
   "metadata": {},
   "outputs": [],
   "source": [
    "# Conjunto de datos similar a MNIST, con 70.000 imagenes en escala de grises de 28x28 pixels y 10 clases de articulos de moda\n",
    "fashion_mnist = keras.datasets.fashion_mnist"
   ]
  },
  {
   "cell_type": "code",
   "execution_count": 9,
   "id": "e557dc30-40c0-4e83-bf50-acd29423f9d8",
   "metadata": {},
   "outputs": [],
   "source": [
    "(X_train_full, y_train_full), (X_test, y_test) = fashion_mnist.load_data()"
   ]
  },
  {
   "cell_type": "code",
   "execution_count": 10,
   "id": "50649f8f-4a87-4a78-b1ef-88a7fc9ad29d",
   "metadata": {},
   "outputs": [
    {
     "data": {
      "text/plain": [
       "(60000, 28, 28)"
      ]
     },
     "execution_count": 10,
     "metadata": {},
     "output_type": "execute_result"
    }
   ],
   "source": [
    "X_train_full.shape"
   ]
  },
  {
   "cell_type": "code",
   "execution_count": 11,
   "id": "0a40b96e-d694-4346-93ad-06f4252e26fe",
   "metadata": {},
   "outputs": [
    {
     "data": {
      "text/plain": [
       "dtype('uint8')"
      ]
     },
     "execution_count": 11,
     "metadata": {},
     "output_type": "execute_result"
    }
   ],
   "source": [
    "X_train_full.dtype"
   ]
  },
  {
   "cell_type": "code",
   "execution_count": 12,
   "id": "2cdcd7c4-3efe-464c-a42a-6db6c6c3c6df",
   "metadata": {},
   "outputs": [],
   "source": [
    "# Creando conjunto de validación\n",
    "# Se escala la densidad de pixeles hasta el rango 0-1, dividiendo entre 255\n",
    "X_valid, X_train = X_train_full[:5000] / 255.0, X_train_full[5000:] / 255.0\n",
    "y_valid, y_train = y_train_full[:5000], y_train_full[5000:]"
   ]
  },
  {
   "cell_type": "code",
   "execution_count": 13,
   "id": "1ac63c0d-7cb0-4228-8615-f6f992fa7f19",
   "metadata": {},
   "outputs": [],
   "source": [
    "# Se asocia las etiquetas númericas con nombres representativos\n",
    "class_names = ['T-shirt/top', 'Trouser', 'Pullover', 'Dress', 'Coat', 'Sandal', 'Shirt', 'Sneaker', 'Bag', 'Ankle boot']"
   ]
  },
  {
   "cell_type": "code",
   "execution_count": 15,
   "id": "8143c455-eb5c-4907-b830-07375ca657d3",
   "metadata": {},
   "outputs": [
    {
     "data": {
      "text/plain": [
       "'Coat'"
      ]
     },
     "execution_count": 15,
     "metadata": {},
     "output_type": "execute_result"
    }
   ],
   "source": [
    "class_names[y_train[0]]"
   ]
  },
  {
   "cell_type": "markdown",
   "id": "5772b6bc-09a3-40db-a6bd-f4ca4394b56e",
   "metadata": {},
   "source": [
    "## Creación del modelo con la API Secuencial"
   ]
  },
  {
   "cell_type": "markdown",
   "id": "cf5bdea8-9878-4098-a93a-5c97f7b56611",
   "metadata": {},
   "source": [
    "Crea el modelo Sequential. es el tipo más sencillo de modelos en Keras para RNA. \n",
    "\n",
    "Consta de una sola única pila de capas conectadas secuencialmente."
   ]
  },
  {
   "cell_type": "markdown",
   "id": "939f87f8-a103-4a2e-bbad-09fe2e66771d",
   "metadata": {},
   "source": [
    "model = keras.models.Sequential()"
   ]
  },
  {
   "cell_type": "markdown",
   "id": "25987eb7-0dea-4641-a8df-39ddd0189242",
   "metadata": {},
   "source": [
    "Se construye la primera capa y se añade al modelo. Capa Flatten convierte la entrada de imagen en una matriz 1D. \n",
    "\n",
    "Esta capa no tiene parametros, solo existe para el preprocesamiento.\n",
    "\n",
    "Dado que es la primera capa, se debe especificar el input_shape, que da la forma de la instancia."
   ]
  },
  {
   "cell_type": "code",
   "execution_count": null,
   "id": "15914e46-3a7e-4732-bd12-955907006cb7",
   "metadata": {},
   "outputs": [],
   "source": [
    "model.add(keras.layers.Flatten(input_shape = [28, 28]))"
   ]
  },
  {
   "cell_type": "markdown",
   "id": "9c16384b-d33f-4105-b144-0485d2c8f4ff",
   "metadata": {},
   "source": [
    "Se añade una capa Dense oculta con 300 neuronas, que utiliza la función de activación ReLU. \n",
    "\n",
    "Cada capa Dense administra su propia matriz de pesos, que contiene los pesos de conexión entre las neuronas y sus salidas.\n",
    "\n",
    "También gestiona un vector de términos de sesgo (uno por neurona), cuando recibe datos de entrada, computa la siguiente ecuación:\n",
    "\n",
    "$ h_{W,b}(X) = \\Phi(X W + b) $ "
   ]
  },
  {
   "cell_type": "code",
   "execution_count": null,
   "id": "78a10c15-9bd4-4b92-bdc4-4ddc18f17d7f",
   "metadata": {},
   "outputs": [],
   "source": [
    "model.add(keras.layers.Dense(300, activation = 'relu'))"
   ]
  },
  {
   "cell_type": "markdown",
   "id": "50db6b3c-2f32-437f-a005-6bfdc4f7b257",
   "metadata": {},
   "source": [
    "Se añade una segudna capa Dense oculta con 100 neuronas, también con la función de activación ReLU."
   ]
  },
  {
   "cell_type": "code",
   "execution_count": null,
   "id": "7ab52447-426f-4b0c-828d-81a3dde65f70",
   "metadata": {},
   "outputs": [],
   "source": [
    "model.add(keras.layers.Dense(100, activation = 'relu'))"
   ]
  },
  {
   "cell_type": "markdown",
   "id": "85fdff45-ce59-4b49-b408-a43c658cc79a",
   "metadata": {},
   "source": [
    "Por último, añadimos una capa de salida Dense con 10 neurona (una por clase), con la función de activación softmax (dado que las clases son exclusivas)."
   ]
  },
  {
   "cell_type": "code",
   "execution_count": null,
   "id": "55f6be68-2618-4b87-a82d-740e3123cac2",
   "metadata": {},
   "outputs": [],
   "source": [
    "model.add(keras.layers.Dense(10, activation = 'softmax'))"
   ]
  },
  {
   "cell_type": "markdown",
   "id": "830e968f-9270-448b-b866-38d13c935a16",
   "metadata": {},
   "source": [
    "### Otra forma de implementar el modelo"
   ]
  },
  {
   "cell_type": "code",
   "execution_count": 28,
   "id": "4742f50e-b265-4b92-8c27-430d8705ac54",
   "metadata": {},
   "outputs": [],
   "source": [
    "model = keras.models.Sequential([\n",
    "    keras.layers.Flatten(input_shape = [28, 28]),\n",
    "    keras.layers.Dense(300, activation = 'relu'),\n",
    "    keras.layers.Dense(100, activation = 'relu'),\n",
    "    keras.layers.Dense(10, activation = 'softmax')\n",
    "])"
   ]
  },
  {
   "cell_type": "code",
   "execution_count": 29,
   "id": "81ad05ff-51ac-47a9-a05a-93fea2af32d8",
   "metadata": {},
   "outputs": [
    {
     "name": "stdout",
     "output_type": "stream",
     "text": [
      "Model: \"sequential_1\"\n",
      "_________________________________________________________________\n",
      " Layer (type)                Output Shape              Param #   \n",
      "=================================================================\n",
      " flatten_1 (Flatten)         (None, 784)               0         \n",
      "                                                                 \n",
      " dense_3 (Dense)             (None, 300)               235500    \n",
      "                                                                 \n",
      " dense_4 (Dense)             (None, 100)               30100     \n",
      "                                                                 \n",
      " dense_5 (Dense)             (None, 10)                1010      \n",
      "                                                                 \n",
      "=================================================================\n",
      "Total params: 266,610\n",
      "Trainable params: 266,610\n",
      "Non-trainable params: 0\n",
      "_________________________________________________________________\n"
     ]
    }
   ],
   "source": [
    "model.summary()"
   ]
  },
  {
   "cell_type": "markdown",
   "id": "a11340d8-a11f-40f1-81ea-dd4ccfc17d09",
   "metadata": {},
   "source": [
    "Las capas Dense tienen con frecuencia muchos parámetros. Por ejemplo, la primera capa oculta tiene 784x300 pesos de conexión, más 300 términos de sesgo, lo que da la suma de 235.500 parámetros. Dando al modelo mucha flexibilidad para ajustar los datos de entrenamiento, pero también significa que está en riesgo de sobreajuste, sobre todo cuando no se cuenta con muchos datos de entrenamiento"
   ]
  },
  {
   "cell_type": "markdown",
   "id": "55e40583-6e5d-4609-a801-74c7bd289d48",
   "metadata": {},
   "source": [
    "Lista de capas del modelo para buscar una capa por indice o b"
   ]
  },
  {
   "cell_type": "code",
   "execution_count": 31,
   "id": "ad71d046-1d1a-4ad6-bbbf-7e14dba5b1dd",
   "metadata": {},
   "outputs": [
    {
     "data": {
      "text/plain": [
       "[<keras.layers.reshaping.flatten.Flatten at 0x7f4e0cd3d2a0>,\n",
       " <keras.layers.core.dense.Dense at 0x7f4e0d3e2740>,\n",
       " <keras.layers.core.dense.Dense at 0x7f4e0d3e3b50>,\n",
       " <keras.layers.core.dense.Dense at 0x7f4e0d3e3190>]"
      ]
     },
     "execution_count": 31,
     "metadata": {},
     "output_type": "execute_result"
    }
   ],
   "source": [
    "model.layers"
   ]
  },
  {
   "cell_type": "code",
   "execution_count": null,
   "id": "89bab0a6-b49a-4838-b262-ea4ca396fca6",
   "metadata": {},
   "outputs": [
    {
     "data": {
      "text/plain": [
       "'dense_3'"
      ]
     },
     "execution_count": 35,
     "metadata": {},
     "output_type": "execute_result"
    }
   ],
   "source": [
    "hidden1 = model.layers[1]\n",
    "hidden1.name"
   ]
  },
  {
   "cell_type": "code",
   "execution_count": 37,
   "id": "937a2afe-2e66-4954-8181-3480be4cf4cd",
   "metadata": {},
   "outputs": [
    {
     "data": {
      "text/plain": [
       "True"
      ]
     },
     "execution_count": 37,
     "metadata": {},
     "output_type": "execute_result"
    }
   ],
   "source": [
    "model.get_layer('dense_3') is hidden1"
   ]
  },
  {
   "cell_type": "markdown",
   "id": "d3b6a3c5-aaf1-4cd6-be0b-d4b64084f255",
   "metadata": {},
   "source": [
    "Se puede acceder a todos los parámetros de una capa:"
   ]
  },
  {
   "cell_type": "code",
   "execution_count": 38,
   "id": "d8ebee98-3459-4a5b-8eb1-edd3b6d5d6c5",
   "metadata": {},
   "outputs": [
    {
     "data": {
      "text/plain": [
       "array([[ 0.01722668,  0.03618187, -0.02348909, ..., -0.03296559,\n",
       "        -0.01114808,  0.0700599 ],\n",
       "       [ 0.02781989,  0.02758691, -0.03135449, ..., -0.01861966,\n",
       "        -0.03237749,  0.0237383 ],\n",
       "       [ 0.06967348, -0.04436409, -0.01525133, ..., -0.04863381,\n",
       "         0.05229123, -0.03187001],\n",
       "       ...,\n",
       "       [-0.02644977,  0.01671094,  0.04635596, ...,  0.01475454,\n",
       "         0.06725679,  0.06777671],\n",
       "       [-0.00200869, -0.03166008,  0.05024006, ...,  0.06084898,\n",
       "        -0.01336817, -0.06971929],\n",
       "       [-0.02432529, -0.07053582,  0.02338087, ...,  0.006532  ,\n",
       "         0.02069069,  0.03839889]], dtype=float32)"
      ]
     },
     "execution_count": 38,
     "metadata": {},
     "output_type": "execute_result"
    }
   ],
   "source": [
    "weights, biases = hidden1.get_weights()\n",
    "weights"
   ]
  },
  {
   "cell_type": "code",
   "execution_count": 39,
   "id": "cba32332-4232-4888-b039-e324eacf7647",
   "metadata": {},
   "outputs": [
    {
     "data": {
      "text/plain": [
       "(784, 300)"
      ]
     },
     "execution_count": 39,
     "metadata": {},
     "output_type": "execute_result"
    }
   ],
   "source": [
    "weights.shape"
   ]
  },
  {
   "cell_type": "code",
   "execution_count": 40,
   "id": "caa12824-a9ab-49c3-9934-0a50c3c2d7f8",
   "metadata": {},
   "outputs": [
    {
     "data": {
      "text/plain": [
       "array([0., 0., 0., 0., 0., 0., 0., 0., 0., 0., 0., 0., 0., 0., 0., 0., 0.,\n",
       "       0., 0., 0., 0., 0., 0., 0., 0., 0., 0., 0., 0., 0., 0., 0., 0., 0.,\n",
       "       0., 0., 0., 0., 0., 0., 0., 0., 0., 0., 0., 0., 0., 0., 0., 0., 0.,\n",
       "       0., 0., 0., 0., 0., 0., 0., 0., 0., 0., 0., 0., 0., 0., 0., 0., 0.,\n",
       "       0., 0., 0., 0., 0., 0., 0., 0., 0., 0., 0., 0., 0., 0., 0., 0., 0.,\n",
       "       0., 0., 0., 0., 0., 0., 0., 0., 0., 0., 0., 0., 0., 0., 0., 0., 0.,\n",
       "       0., 0., 0., 0., 0., 0., 0., 0., 0., 0., 0., 0., 0., 0., 0., 0., 0.,\n",
       "       0., 0., 0., 0., 0., 0., 0., 0., 0., 0., 0., 0., 0., 0., 0., 0., 0.,\n",
       "       0., 0., 0., 0., 0., 0., 0., 0., 0., 0., 0., 0., 0., 0., 0., 0., 0.,\n",
       "       0., 0., 0., 0., 0., 0., 0., 0., 0., 0., 0., 0., 0., 0., 0., 0., 0.,\n",
       "       0., 0., 0., 0., 0., 0., 0., 0., 0., 0., 0., 0., 0., 0., 0., 0., 0.,\n",
       "       0., 0., 0., 0., 0., 0., 0., 0., 0., 0., 0., 0., 0., 0., 0., 0., 0.,\n",
       "       0., 0., 0., 0., 0., 0., 0., 0., 0., 0., 0., 0., 0., 0., 0., 0., 0.,\n",
       "       0., 0., 0., 0., 0., 0., 0., 0., 0., 0., 0., 0., 0., 0., 0., 0., 0.,\n",
       "       0., 0., 0., 0., 0., 0., 0., 0., 0., 0., 0., 0., 0., 0., 0., 0., 0.,\n",
       "       0., 0., 0., 0., 0., 0., 0., 0., 0., 0., 0., 0., 0., 0., 0., 0., 0.,\n",
       "       0., 0., 0., 0., 0., 0., 0., 0., 0., 0., 0., 0., 0., 0., 0., 0., 0.,\n",
       "       0., 0., 0., 0., 0., 0., 0., 0., 0., 0., 0.], dtype=float32)"
      ]
     },
     "execution_count": 40,
     "metadata": {},
     "output_type": "execute_result"
    }
   ],
   "source": [
    "biases"
   ]
  },
  {
   "cell_type": "code",
   "execution_count": 41,
   "id": "bd1f21fe-b441-4e48-a2c0-9acdfa370766",
   "metadata": {},
   "outputs": [
    {
     "data": {
      "text/plain": [
       "(300,)"
      ]
     },
     "execution_count": 41,
     "metadata": {},
     "output_type": "execute_result"
    }
   ],
   "source": [
    "biases.shape"
   ]
  },
  {
   "cell_type": "markdown",
   "id": "1e96df05-a11f-4fad-91a0-61c33728bcdd",
   "metadata": {},
   "source": [
    "Los pesos de la capa Dense se han inizializado aleatoriamente y los sesgos se han inizializados en cero. Si se desea iniciar con un método diferente, se puede configurar con _kernel_initializer_ o _bias_initializer_ al crear la capa."
   ]
  },
  {
   "cell_type": "markdown",
   "id": "ad48f1e3-95cf-4d53-8c6b-ba97176aff1f",
   "metadata": {},
   "source": [
    "## Compilación del modelo\n",
    "\n",
    "Tras crear el modelo, hay que llamar a su método compile() para especificar la función de pérdida y el optimizador que se utilizarán.\n",
    "\n",
    "- https://keras.io/losses\n",
    "- https://keras.io/optimizers\n",
    "- https://keras.io/metrics"
   ]
  },
  {
   "cell_type": "code",
   "execution_count": 42,
   "id": "491d5878-069a-402d-abd9-111750dad3a8",
   "metadata": {},
   "outputs": [],
   "source": [
    "model.compile(loss = \"sparse_categorical_crossentropy\",\n",
    "              optimizer = \"sgd\",\n",
    "              metrics = [\"accuracy\"])"
   ]
  },
  {
   "cell_type": "markdown",
   "id": "a88d633e-70cc-4646-845b-49416078a3cf",
   "metadata": {},
   "source": [
    "La función de perdirdida \"sparse_categorical_crossentropy\" se utiliza en clasificación multietiqueta.\n",
    "\n",
    "Para clasifición binaria se utiliza la función de activación \"sigmoid\" en la capa de salida en lugar de una función \"softmax\", y utilizariamos la perdida \"binary_crossentropy\"."
   ]
  },
  {
   "cell_type": "markdown",
   "id": "ea0f855b-f2ea-4fcf-9363-99de5503f315",
   "metadata": {},
   "source": [
    "## Entrenamiento y evaluación"
   ]
  },
  {
   "cell_type": "code",
   "execution_count": 44,
   "id": "2f8a19f3-9530-4047-8c78-179deb7518c2",
   "metadata": {},
   "outputs": [
    {
     "name": "stdout",
     "output_type": "stream",
     "text": [
      "Epoch 1/30\n",
      "1719/1719 [==============================] - 5s 2ms/step - loss: 0.7221 - accuracy: 0.7682 - val_loss: 0.5465 - val_accuracy: 0.8032\n",
      "Epoch 2/30\n",
      "1719/1719 [==============================] - 4s 2ms/step - loss: 0.4844 - accuracy: 0.8321 - val_loss: 0.4431 - val_accuracy: 0.8486\n",
      "Epoch 3/30\n",
      "1719/1719 [==============================] - 4s 2ms/step - loss: 0.4417 - accuracy: 0.8449 - val_loss: 0.4443 - val_accuracy: 0.8450\n",
      "Epoch 4/30\n",
      "1719/1719 [==============================] - 4s 2ms/step - loss: 0.4116 - accuracy: 0.8539 - val_loss: 0.4303 - val_accuracy: 0.8524\n",
      "Epoch 5/30\n",
      "1719/1719 [==============================] - 4s 2ms/step - loss: 0.3923 - accuracy: 0.8630 - val_loss: 0.3964 - val_accuracy: 0.8590\n",
      "Epoch 6/30\n",
      "1719/1719 [==============================] - 4s 2ms/step - loss: 0.3766 - accuracy: 0.8677 - val_loss: 0.3770 - val_accuracy: 0.8690\n",
      "Epoch 7/30\n",
      "1719/1719 [==============================] - 4s 2ms/step - loss: 0.3635 - accuracy: 0.8714 - val_loss: 0.3710 - val_accuracy: 0.8688\n",
      "Epoch 8/30\n",
      "1719/1719 [==============================] - 4s 2ms/step - loss: 0.3511 - accuracy: 0.8750 - val_loss: 0.3531 - val_accuracy: 0.8754\n",
      "Epoch 9/30\n",
      "1719/1719 [==============================] - 4s 2ms/step - loss: 0.3411 - accuracy: 0.8789 - val_loss: 0.3703 - val_accuracy: 0.8692\n",
      "Epoch 10/30\n",
      "1719/1719 [==============================] - 4s 2ms/step - loss: 0.3314 - accuracy: 0.8821 - val_loss: 0.3333 - val_accuracy: 0.8812\n",
      "Epoch 11/30\n",
      "1719/1719 [==============================] - 4s 2ms/step - loss: 0.3224 - accuracy: 0.8849 - val_loss: 0.3358 - val_accuracy: 0.8816\n",
      "Epoch 12/30\n",
      "1719/1719 [==============================] - 4s 2ms/step - loss: 0.3153 - accuracy: 0.8871 - val_loss: 0.3516 - val_accuracy: 0.8764\n",
      "Epoch 13/30\n",
      "1719/1719 [==============================] - 4s 2ms/step - loss: 0.3073 - accuracy: 0.8903 - val_loss: 0.3443 - val_accuracy: 0.8786\n",
      "Epoch 14/30\n",
      "1719/1719 [==============================] - 4s 2ms/step - loss: 0.3018 - accuracy: 0.8916 - val_loss: 0.3415 - val_accuracy: 0.8748\n",
      "Epoch 15/30\n",
      "1719/1719 [==============================] - 4s 2ms/step - loss: 0.2946 - accuracy: 0.8939 - val_loss: 0.3186 - val_accuracy: 0.8870\n",
      "Epoch 16/30\n",
      "1719/1719 [==============================] - 4s 2ms/step - loss: 0.2899 - accuracy: 0.8942 - val_loss: 0.3290 - val_accuracy: 0.8826\n",
      "Epoch 17/30\n",
      "1719/1719 [==============================] - 4s 2ms/step - loss: 0.2832 - accuracy: 0.8980 - val_loss: 0.3143 - val_accuracy: 0.8882\n",
      "Epoch 18/30\n",
      "1719/1719 [==============================] - 4s 2ms/step - loss: 0.2793 - accuracy: 0.8997 - val_loss: 0.3155 - val_accuracy: 0.8868\n",
      "Epoch 19/30\n",
      "1719/1719 [==============================] - 4s 2ms/step - loss: 0.2723 - accuracy: 0.9021 - val_loss: 0.3278 - val_accuracy: 0.8820\n",
      "Epoch 20/30\n",
      "1719/1719 [==============================] - 4s 2ms/step - loss: 0.2680 - accuracy: 0.9037 - val_loss: 0.3163 - val_accuracy: 0.8870\n",
      "Epoch 21/30\n",
      "1719/1719 [==============================] - 4s 2ms/step - loss: 0.2625 - accuracy: 0.9051 - val_loss: 0.3094 - val_accuracy: 0.8866\n",
      "Epoch 22/30\n",
      "1719/1719 [==============================] - 4s 2ms/step - loss: 0.2576 - accuracy: 0.9071 - val_loss: 0.3122 - val_accuracy: 0.8888\n",
      "Epoch 23/30\n",
      "1719/1719 [==============================] - 4s 2ms/step - loss: 0.2544 - accuracy: 0.9081 - val_loss: 0.3153 - val_accuracy: 0.8878\n",
      "Epoch 24/30\n",
      "1719/1719 [==============================] - 4s 2ms/step - loss: 0.2507 - accuracy: 0.9094 - val_loss: 0.3038 - val_accuracy: 0.8882\n",
      "Epoch 25/30\n",
      "1719/1719 [==============================] - 4s 2ms/step - loss: 0.2456 - accuracy: 0.9123 - val_loss: 0.3057 - val_accuracy: 0.8886\n",
      "Epoch 26/30\n",
      "1719/1719 [==============================] - 4s 2ms/step - loss: 0.2400 - accuracy: 0.9138 - val_loss: 0.3131 - val_accuracy: 0.8880\n",
      "Epoch 27/30\n",
      "1719/1719 [==============================] - 4s 2ms/step - loss: 0.2370 - accuracy: 0.9145 - val_loss: 0.3061 - val_accuracy: 0.8922\n",
      "Epoch 28/30\n",
      "1719/1719 [==============================] - 4s 2ms/step - loss: 0.2327 - accuracy: 0.9162 - val_loss: 0.2946 - val_accuracy: 0.8944\n",
      "Epoch 29/30\n",
      "1719/1719 [==============================] - 4s 2ms/step - loss: 0.2294 - accuracy: 0.9175 - val_loss: 0.3018 - val_accuracy: 0.8934\n",
      "Epoch 30/30\n",
      "1719/1719 [==============================] - 4s 2ms/step - loss: 0.2258 - accuracy: 0.9187 - val_loss: 0.2959 - val_accuracy: 0.8962\n"
     ]
    }
   ],
   "source": [
    "history = model.fit(X_train, y_train, \n",
    "                    epochs = 30, \n",
    "                    validation_data = (X_valid, y_valid))"
   ]
  },
  {
   "cell_type": "markdown",
   "id": "e1fdf8b3-a316-4aa8-9b68-82f9dd8c403c",
   "metadata": {},
   "source": [
    "El método fit() devuelve un objeto History que contiene los parámetros de entrenamiento (history.params), la lista de repeticiones por las que ha pasado (history.epoch) y, lo que más importante, un diccionario (history.history) que contiene la perdida y las métricas adicionales.\n",
    "\n",
    "Se puede utilizar el diccionario para crear un gráfico con las curvas de aprendizaje."
   ]
  },
  {
   "cell_type": "code",
   "execution_count": 45,
   "id": "8d330319-7398-4e79-b57f-7909e204ab3a",
   "metadata": {},
   "outputs": [
    {
     "data": {
      "image/png": "[encoded data removed]",
      "text/plain": [
       "<Figure size 576x360 with 1 Axes>"
      ]
     },
     "metadata": {
      "needs_background": "light"
     },
     "output_type": "display_data"
    }
   ],
   "source": [
    "import pandas as pd\n",
    "import matplotlib.pyplot as plt\n",
    "\n",
    "pd.DataFrame(history.history).plot(figsize=(8, 5))\n",
    "plt.gca().set_ylim(0, 1)\n",
    "plt.show()"
   ]
  },
  {
   "cell_type": "markdown",
   "id": "190c3c61-ed96-427c-8ee9-2aade21a8e5d",
   "metadata": {},
   "source": [
    "Tanto la exactitud del entrenamiento como de validación aumentan continuamente, mientras que la pérdida de entrenamiento y la validacióndisminuyen.\n",
    "\n",
    "Las curvas de validación y entrenamiento son muy cercanas lo que significa que no hay demasiado sobreajuste.\n",
    "\n",
    "Es común que el rendimiento de la curva de entrenamiento supere a la de validación, como suele ocurrir cuando se entrena el tiempo suficiente.\n",
    "\n",
    "Se peude saber que el modelo aún no converge dado que la pérdida de validación sigue bajando, por lo que es probable que se deba seguir entrenando."
   ]
  },
  {
   "cell_type": "markdown",
   "id": "4d1120e0-9e5d-4b71-bb7e-58aa482e8340",
   "metadata": {},
   "source": [
    "### Ajuste de parámetros"
   ]
  },
  {
   "cell_type": "markdown",
   "id": "253fe52f-6c1b-40a5-b06a-b85cdc536c16",
   "metadata": {},
   "source": [
    "Si los resultados no son favorables, se debe ajustar: \n",
    "- la tasa de aprensizaje\n",
    "- otro optimizador\n",
    "- otros números de capas\n",
    "- neuronas por número de capas\n",
    "- tipos de funciones de activación"
   ]
  },
  {
   "cell_type": "markdown",
   "id": "40ce13a4-d094-4f67-9207-ba6da99db1d2",
   "metadata": {},
   "source": [
    "## Evaluar la generalización\n",
    "\n",
    "Se evalua el desempeño con los datos de testing"
   ]
  },
  {
   "cell_type": "code",
   "execution_count": 46,
   "id": "6fa0b9e8-4dc0-47d6-bc50-71f0b762b0cf",
   "metadata": {},
   "outputs": [
    {
     "name": "stdout",
     "output_type": "stream",
     "text": [
      "313/313 [==============================] - 1s 2ms/step - loss: 62.5471 - accuracy: 0.8525\n"
     ]
    },
    {
     "data": {
      "text/plain": [
       "[62.54712677001953, 0.8525000214576721]"
      ]
     },
     "execution_count": 46,
     "metadata": {},
     "output_type": "execute_result"
    }
   ],
   "source": [
    "model.evaluate(X_test, y_test)"
   ]
  },
  {
   "cell_type": "markdown",
   "id": "c33bd135-be80-41d4-abd4-2d54e1fac2d4",
   "metadata": {},
   "source": [
    "## Predicciones"
   ]
  },
  {
   "cell_type": "code",
   "execution_count": 47,
   "id": "fdcf1b12-a630-4631-9750-98204111883e",
   "metadata": {},
   "outputs": [
    {
     "name": "stdout",
     "output_type": "stream",
     "text": [
      "1/1 [==============================] - 0s 86ms/step\n"
     ]
    },
    {
     "data": {
      "text/plain": [
       "array([[0., 0., 0., 0., 0., 0., 0., 0., 0., 1.],\n",
       "       [0., 0., 1., 0., 0., 0., 0., 0., 0., 0.],\n",
       "       [0., 1., 0., 0., 0., 0., 0., 0., 0., 0.]], dtype=float32)"
      ]
     },
     "execution_count": 47,
     "metadata": {},
     "output_type": "execute_result"
    }
   ],
   "source": [
    "X_new = X_test[:3]\n",
    "y_proba = model.predict(X_new)\n",
    "y_proba.round(2)"
   ]
  },
  {
   "cell_type": "markdown",
   "id": "ec4bffc1-1270-4445-b59b-7618cb919abc",
   "metadata": {},
   "source": [
    "Se calcula, para cada instancia, una probabilidad por clase, desde la 0 a la 9. La primera imagen se estima que es \"Ankle boot\" con 100% de probabilidad."
   ]
  },
  {
   "cell_type": "code",
   "execution_count": 54,
   "id": "aae668c7-7eb4-4a65-bea5-96025b73bf92",
   "metadata": {},
   "outputs": [
    {
     "data": {
      "text/plain": [
       "array([9, 2, 1])"
      ]
     },
     "execution_count": 54,
     "metadata": {},
     "output_type": "execute_result"
    }
   ],
   "source": [
    "y_pred = np.argmax(y_proba, axis=1)\n",
    "y_pred"
   ]
  },
  {
   "cell_type": "code",
   "execution_count": 55,
   "id": "4f061a65-6f66-4620-a90c-3f87e3e716b8",
   "metadata": {},
   "outputs": [
    {
     "data": {
      "text/plain": [
       "array(['Ankle boot', 'Pullover', 'Trouser'], dtype='<U11')"
      ]
     },
     "execution_count": 55,
     "metadata": {},
     "output_type": "execute_result"
    }
   ],
   "source": [
    "np.array(class_names)[y_pred]"
   ]
  }
 ],
 "metadata": {
  "kernelspec": {
   "display_name": "Python 3 (ipykernel)",
   "language": "python",
   "name": "python3"
  },
  "language_info": {
   "codemirror_mode": {
    "name": "ipython",
    "version": 3
   },
   "file_extension": ".py",
   "mimetype": "text/x-python",
   "name": "python",
   "nbconvert_exporter": "python",
   "pygments_lexer": "ipython3",
   "version": "3.8.8"
  }
 },
 "nbformat": 4,
 "nbformat_minor": 5
}
