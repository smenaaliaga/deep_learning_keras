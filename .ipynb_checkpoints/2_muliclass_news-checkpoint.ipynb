{
 "cells": [
  {
   "cell_type": "markdown",
   "id": "01866f75",
   "metadata": {},
   "source": [
    "# Ejemplo Casificación Multiclases: Noticias\n",
    "\n",
    "Modelos de Redes Neuronales para clasificar noticias de Reuters en 46 temas exclusivos."
   ]
  },
  {
   "cell_type": "code",
   "execution_count": 1,
   "id": "074808d3",
   "metadata": {},
   "outputs": [],
   "source": [
    "from keras.datasets import reuters"
   ]
  },
  {
   "cell_type": "code",
   "execution_count": 2,
   "id": "7af62fa8",
   "metadata": {},
   "outputs": [
    {
     "name": "stdout",
     "output_type": "stream",
     "text": [
      "Downloading data from https://storage.googleapis.com/tensorflow/tf-keras-datasets/reuters.npz\n",
      "2110848/2110848 [==============================] - 1s 0us/step\n"
     ]
    }
   ],
   "source": [
    "(train_data, train_labels), (test_data, test_labels) = reuters.load_data(num_words=10000)"
   ]
  },
  {
   "cell_type": "code",
   "execution_count": 3,
   "id": "5c475f77",
   "metadata": {},
   "outputs": [
    {
     "data": {
      "text/plain": [
       "8982"
      ]
     },
     "execution_count": 3,
     "metadata": {},
     "output_type": "execute_result"
    }
   ],
   "source": [
    "len(train_data)"
   ]
  },
  {
   "cell_type": "code",
   "execution_count": 4,
   "id": "589cd052",
   "metadata": {},
   "outputs": [
    {
     "data": {
      "text/plain": [
       "2246"
      ]
     },
     "execution_count": 4,
     "metadata": {},
     "output_type": "execute_result"
    }
   ],
   "source": [
    "len(test_data)"
   ]
  },
  {
   "cell_type": "code",
   "execution_count": 7,
   "id": "f0418168",
   "metadata": {},
   "outputs": [
    {
     "data": {
      "text/plain": [
       "[1,\n",
       " 245,\n",
       " 273,\n",
       " 207,\n",
       " 156,\n",
       " 53,\n",
       " 74,\n",
       " 160,\n",
       " 26,\n",
       " 14,\n",
       " 46,\n",
       " 296,\n",
       " 26,\n",
       " 39,\n",
       " 74,\n",
       " 2979,\n",
       " 3554,\n",
       " 14,\n",
       " 46,\n",
       " 4689,\n",
       " 4329,\n",
       " 86,\n",
       " 61,\n",
       " 3499,\n",
       " 4795,\n",
       " 14,\n",
       " 61,\n",
       " 451,\n",
       " 4329,\n",
       " 17,\n",
       " 12]"
      ]
     },
     "execution_count": 7,
     "metadata": {},
     "output_type": "execute_result"
    }
   ],
   "source": [
    "train_data[10]"
   ]
  },
  {
   "cell_type": "code",
   "execution_count": 10,
   "id": "50c18b9d",
   "metadata": {},
   "outputs": [
    {
     "data": {
      "text/plain": [
       "'? ? ? said as a result of its december acquisition of space co it expects earnings per share in 1987 of 1 15 to 1 30 dlrs per share up from 70 cts in 1986 the company said pretax net should rise to nine to 10 mln dlrs from six mln dlrs in 1986 and rental operation revenues to 19 to 22 mln dlrs from 12 5 mln dlrs it said cash flow per share this year should be 2 50 to three dlrs reuter 3'"
      ]
     },
     "execution_count": 10,
     "metadata": {},
     "output_type": "execute_result"
    }
   ],
   "source": [
    "# Decodificación a texto\n",
    "word_index = reuters.get_word_index()\n",
    "reverse_word_index = dict([value, key] for (key, value) in word_index.items())\n",
    "decode_newswire = ' '.join([reverse_word_index.get(i-3, '?') for i in train_data[0]])\n",
    "decode_newswire"
   ]
  },
  {
   "cell_type": "code",
   "execution_count": 13,
   "id": "7b1967bc",
   "metadata": {
    "scrolled": true
   },
   "outputs": [
    {
     "data": {
      "text/plain": [
       "3"
      ]
     },
     "execution_count": 13,
     "metadata": {},
     "output_type": "execute_result"
    }
   ],
   "source": [
    "train_labels[0]"
   ]
  },
  {
   "cell_type": "code",
   "execution_count": 16,
   "id": "c70c0ff8",
   "metadata": {},
   "outputs": [],
   "source": [
    "import numpy as np"
   ]
  },
  {
   "cell_type": "code",
   "execution_count": 17,
   "id": "e1aa3214",
   "metadata": {},
   "outputs": [],
   "source": [
    "# Codificación\n",
    "def vectorize_sequence(sequences, dimension=10000):\n",
    "    res = np.zeros((len(sequences), dimension))\n",
    "    for i, sequence in enumerate(sequences):\n",
    "        res[i, sequence] = 1\n",
    "    return res"
   ]
  },
  {
   "cell_type": "code",
   "execution_count": 18,
   "id": "45461b58",
   "metadata": {},
   "outputs": [],
   "source": [
    "x_train = vectorize_sequence(train_data)\n",
    "x_test = vectorize_sequence(test_data)"
   ]
  },
  {
   "cell_type": "code",
   "execution_count": 19,
   "id": "e692f9c6",
   "metadata": {},
   "outputs": [],
   "source": [
    "# Codificación one-hot para etiquetas\n",
    "def to_one_hot(labels, dimension=46):\n",
    "    res = np.zeros((len(labels), dimension))\n",
    "    for i, label in enumerate(labels):\n",
    "        res[i, label] = 1\n",
    "    return res"
   ]
  },
  {
   "cell_type": "code",
   "execution_count": 20,
   "id": "b3d5273f",
   "metadata": {},
   "outputs": [],
   "source": [
    "oh_train_labels = to_one_hot(train_labels)\n",
    "oh_test_labels = to_one_hot(test_labels)"
   ]
  },
  {
   "cell_type": "code",
   "execution_count": 22,
   "id": "0bbb2212",
   "metadata": {
    "scrolled": true
   },
   "outputs": [
    {
     "data": {
      "text/plain": [
       "array([[0., 0., 0., ..., 0., 0., 0.],\n",
       "       [0., 0., 0., ..., 0., 0., 0.],\n",
       "       [0., 0., 0., ..., 0., 0., 0.],\n",
       "       ...,\n",
       "       [0., 0., 0., ..., 0., 0., 0.],\n",
       "       [0., 0., 0., ..., 0., 0., 0.],\n",
       "       [0., 0., 0., ..., 0., 0., 0.]])"
      ]
     },
     "execution_count": 22,
     "metadata": {},
     "output_type": "execute_result"
    }
   ],
   "source": [
    "oh_train_labels"
   ]
  },
  {
   "cell_type": "code",
   "execution_count": 23,
   "id": "8ecdd55b",
   "metadata": {},
   "outputs": [],
   "source": [
    "# Manera integrada de One-Hot en Keras\n",
    "from keras.utils.np_utils import to_categorical\n",
    "\n",
    "oh_train_labels = to_categorical(train_labels)\n",
    "oh_test_labels = to_categorical(test_labels)"
   ]
  },
  {
   "cell_type": "code",
   "execution_count": 24,
   "id": "8b7d9f3c",
   "metadata": {},
   "outputs": [
    {
     "data": {
      "text/plain": [
       "array([[0., 0., 0., ..., 0., 0., 0.],\n",
       "       [0., 0., 0., ..., 0., 0., 0.],\n",
       "       [0., 0., 0., ..., 0., 0., 0.],\n",
       "       ...,\n",
       "       [0., 0., 0., ..., 0., 0., 0.],\n",
       "       [0., 0., 0., ..., 0., 0., 0.],\n",
       "       [0., 0., 0., ..., 0., 0., 0.]], dtype=float32)"
      ]
     },
     "execution_count": 24,
     "metadata": {},
     "output_type": "execute_result"
    }
   ],
   "source": [
    "oh_train_labels"
   ]
  },
  {
   "cell_type": "markdown",
   "id": "0d004a33",
   "metadata": {},
   "source": [
    "En el ejemplo de clasificación binaria se utilizó un espacio de 16 capas intermedias, sin embargo, para esta clasificación que se compone de 46 etiquetas a clasificar, esto puede ser límitado para que la red pueda captirar la información subyacente de los datos. Capas tan pequeñas pueden generar cuellos de botella para la información, perdiendo información relevante."
   ]
  },
  {
   "cell_type": "code",
   "execution_count": 25,
   "id": "36fc5419",
   "metadata": {},
   "outputs": [],
   "source": [
    "from keras import models\n",
    "from keras import layers"
   ]
  },
  {
   "cell_type": "code",
   "execution_count": 27,
   "id": "dee6df20",
   "metadata": {},
   "outputs": [],
   "source": [
    "# Definición del modelo\n",
    "model = models.Sequential()\n",
    "model.add(layers.Dense(64, activation='relu', input_shape=(10000,)))\n",
    "model.add(layers.Dense(64, activation='relu'))\n",
    "model.add(layers.Dense(46, activation='softmax'))"
   ]
  },
  {
   "cell_type": "markdown",
   "id": "c360ba31",
   "metadata": {},
   "source": [
    "La última capa utiliza una activación _softmax_. Esto generará como salida una distribución de probabilidad sobre las 46 dimensiones, donde el output\\(i) es la probabilidad que la muestra pertenezca a la clase i. El output de las 46 clases sumará 1."
   ]
  },
  {
   "cell_type": "code",
   "execution_count": 28,
   "id": "d3318528",
   "metadata": {},
   "outputs": [],
   "source": [
    "# Compilar el modelo\n",
    "model.compile(optimizer='rmsprop',\n",
    "              loss='categorical_crossentropy',\n",
    "              metrics=['accuracy'])"
   ]
  },
  {
   "cell_type": "markdown",
   "id": "8d81dc4a",
   "metadata": {},
   "source": [
    "La mejor función de perdida en este caso es: _categorical_crossentropy_. Mide la distancia entre dos distribuciones de probabilidad."
   ]
  },
  {
   "cell_type": "code",
   "execution_count": 29,
   "id": "a33e4b27",
   "metadata": {},
   "outputs": [],
   "source": [
    "# Conjunto de validación\n",
    "x_val = x_train[:1000]\n",
    "partial_x_train = x_train[1000:]\n",
    "\n",
    "y_val = oh_train_labels[:1000]\n",
    "partial_y_train = oh_train_labels[1000:]"
   ]
  },
  {
   "cell_type": "code",
   "execution_count": 30,
   "id": "77202486",
   "metadata": {},
   "outputs": [
    {
     "name": "stdout",
     "output_type": "stream",
     "text": [
      "Epoch 1/20\n",
      "16/16 [==============================] - 1s 35ms/step - loss: 2.7425 - accuracy: 0.5397 - val_loss: 1.8140 - val_accuracy: 0.6460\n",
      "Epoch 2/20\n",
      "16/16 [==============================] - 0s 22ms/step - loss: 1.4554 - accuracy: 0.7070 - val_loss: 1.3223 - val_accuracy: 0.7030\n",
      "Epoch 3/20\n",
      "16/16 [==============================] - 0s 22ms/step - loss: 1.0464 - accuracy: 0.7786 - val_loss: 1.1665 - val_accuracy: 0.7510\n",
      "Epoch 4/20\n",
      "16/16 [==============================] - 0s 21ms/step - loss: 0.8204 - accuracy: 0.8312 - val_loss: 1.0205 - val_accuracy: 0.7890\n",
      "Epoch 5/20\n",
      "16/16 [==============================] - 0s 22ms/step - loss: 0.6562 - accuracy: 0.8671 - val_loss: 0.9579 - val_accuracy: 0.7990\n",
      "Epoch 6/20\n",
      "16/16 [==============================] - 0s 21ms/step - loss: 0.5247 - accuracy: 0.8933 - val_loss: 0.9090 - val_accuracy: 0.8160\n",
      "Epoch 7/20\n",
      "16/16 [==============================] - 0s 21ms/step - loss: 0.4212 - accuracy: 0.9147 - val_loss: 0.8950 - val_accuracy: 0.8190\n",
      "Epoch 8/20\n",
      "16/16 [==============================] - 0s 22ms/step - loss: 0.3439 - accuracy: 0.9282 - val_loss: 0.8972 - val_accuracy: 0.8120\n",
      "Epoch 9/20\n",
      "16/16 [==============================] - 0s 22ms/step - loss: 0.2851 - accuracy: 0.9380 - val_loss: 0.9346 - val_accuracy: 0.8150\n",
      "Epoch 10/20\n",
      "16/16 [==============================] - 0s 22ms/step - loss: 0.2380 - accuracy: 0.9464 - val_loss: 0.9109 - val_accuracy: 0.8150\n",
      "Epoch 11/20\n",
      "16/16 [==============================] - 0s 22ms/step - loss: 0.2072 - accuracy: 0.9495 - val_loss: 0.9213 - val_accuracy: 0.8230\n",
      "Epoch 12/20\n",
      "16/16 [==============================] - 0s 22ms/step - loss: 0.1784 - accuracy: 0.9534 - val_loss: 0.9453 - val_accuracy: 0.8240\n",
      "Epoch 13/20\n",
      "16/16 [==============================] - 0s 22ms/step - loss: 0.1633 - accuracy: 0.9519 - val_loss: 0.9360 - val_accuracy: 0.8200\n",
      "Epoch 14/20\n",
      "16/16 [==============================] - 0s 22ms/step - loss: 0.1474 - accuracy: 0.9550 - val_loss: 0.9979 - val_accuracy: 0.8160\n",
      "Epoch 15/20\n",
      "16/16 [==============================] - 0s 21ms/step - loss: 0.1379 - accuracy: 0.9548 - val_loss: 1.0395 - val_accuracy: 0.8040\n",
      "Epoch 16/20\n",
      "16/16 [==============================] - 0s 22ms/step - loss: 0.1334 - accuracy: 0.9562 - val_loss: 1.0139 - val_accuracy: 0.8100\n",
      "Epoch 17/20\n",
      "16/16 [==============================] - 0s 21ms/step - loss: 0.1261 - accuracy: 0.9554 - val_loss: 1.0650 - val_accuracy: 0.8060\n",
      "Epoch 18/20\n",
      "16/16 [==============================] - 0s 22ms/step - loss: 0.1176 - accuracy: 0.9578 - val_loss: 1.0162 - val_accuracy: 0.8040\n",
      "Epoch 19/20\n",
      "16/16 [==============================] - 0s 23ms/step - loss: 0.1126 - accuracy: 0.9579 - val_loss: 1.1331 - val_accuracy: 0.7960\n",
      "Epoch 20/20\n",
      "16/16 [==============================] - 0s 19ms/step - loss: 0.1107 - accuracy: 0.9598 - val_loss: 1.0823 - val_accuracy: 0.8080\n"
     ]
    }
   ],
   "source": [
    "history = model.fit(partial_x_train,\n",
    "                    partial_y_train,\n",
    "                    epochs=20,\n",
    "                    batch_size=512,\n",
    "                    validation_data=(x_val, y_val))"
   ]
  },
  {
   "cell_type": "code",
   "execution_count": 32,
   "id": "a9c16cbc",
   "metadata": {},
   "outputs": [
    {
     "data": {
      "image/png": "[encoded data removed]",
      "text/plain": [
       "<Figure size 640x480 with 1 Axes>"
      ]
     },
     "metadata": {},
     "output_type": "display_data"
    }
   ],
   "source": [
    "# Pérdida de entrenamiento y validación\n",
    "import matplotlib.pyplot as plt\n",
    "\n",
    "loss = history.history['loss']\n",
    "val_loss = history.history['val_loss']\n",
    "\n",
    "epochs = range(1, len(loss) + 1)\n",
    "\n",
    "plt.plot(epochs, loss, 'bo', label='Training loss')\n",
    "plt.plot(epochs, val_loss, 'b', label='Validation loss')\n",
    "plt.xlabel('Epochs')\n",
    "plt.ylabel('Loss')\n",
    "plt.legend()\n",
    "\n",
    "plt.show()"
   ]
  },
  {
   "cell_type": "code",
   "execution_count": 34,
   "id": "3297206e",
   "metadata": {},
   "outputs": [
    {
     "data": {
      "image/png": "[encoded data removed]",
      "text/plain": [
       "<Figure size 640x480 with 1 Axes>"
      ]
     },
     "metadata": {},
     "output_type": "display_data"
    }
   ],
   "source": [
    "plt.clf()\n",
    "\n",
    "acc = history.history['accuracy']\n",
    "val_acc = history.history['val_accuracy']\n",
    "\n",
    "plt.plot(epochs, acc, 'bo', label='Training acc')\n",
    "plt.plot(epochs, val_acc, 'b', label='Validation acc')\n",
    "plt.xlabel('Epochs')\n",
    "plt.ylabel('Accuracy')\n",
    "plt.legend()\n",
    "\n",
    "plt.show()"
   ]
  },
  {
   "cell_type": "markdown",
   "id": "1831f9fd",
   "metadata": {},
   "source": [
    "Tal como se observa en las imagenes, aproximadamente desde las 6ta y 7ma retropropagación, se alcaza el mínimo y máximo de función de perdida y exactitud, respectivamente."
   ]
  },
  {
   "cell_type": "code",
   "execution_count": 39,
   "id": "82f5ae5d",
   "metadata": {},
   "outputs": [
    {
     "name": "stdout",
     "output_type": "stream",
     "text": [
      "Epoch 1/7\n",
      "16/16 [==============================] - 0s 26ms/step - loss: 0.0925 - accuracy: 0.9570 - val_loss: 1.2441 - val_accuracy: 0.7970\n",
      "Epoch 2/7\n",
      "16/16 [==============================] - 0s 23ms/step - loss: 0.0896 - accuracy: 0.9597 - val_loss: 1.3276 - val_accuracy: 0.7850\n",
      "Epoch 3/7\n",
      "16/16 [==============================] - 0s 22ms/step - loss: 0.0897 - accuracy: 0.9579 - val_loss: 1.2785 - val_accuracy: 0.7930\n",
      "Epoch 4/7\n",
      "16/16 [==============================] - 0s 22ms/step - loss: 0.0876 - accuracy: 0.9604 - val_loss: 1.3232 - val_accuracy: 0.7840\n",
      "Epoch 5/7\n",
      "16/16 [==============================] - 0s 24ms/step - loss: 0.0881 - accuracy: 0.9583 - val_loss: 1.3195 - val_accuracy: 0.7880\n",
      "Epoch 6/7\n",
      "16/16 [==============================] - 0s 27ms/step - loss: 0.0882 - accuracy: 0.9575 - val_loss: 1.2809 - val_accuracy: 0.7930\n",
      "Epoch 7/7\n",
      "16/16 [==============================] - 0s 20ms/step - loss: 0.0880 - accuracy: 0.9583 - val_loss: 1.3384 - val_accuracy: 0.7960\n"
     ]
    },
    {
     "data": {
      "text/plain": [
       "<keras.callbacks.History at 0x1f5c4aff430>"
      ]
     },
     "execution_count": 39,
     "metadata": {},
     "output_type": "execute_result"
    }
   ],
   "source": [
    "# Re-entrenamiento del modelo\n",
    "model.fit(partial_x_train,\n",
    "         partial_y_train,\n",
    "         epochs=7,\n",
    "         batch_size=512,\n",
    "         validation_data=(x_val, y_val))"
   ]
  },
  {
   "cell_type": "code",
   "execution_count": 40,
   "id": "f054ddcc",
   "metadata": {},
   "outputs": [
    {
     "name": "stdout",
     "output_type": "stream",
     "text": [
      "71/71 [==============================] - 0s 2ms/step - loss: 1.5587 - accuracy: 0.7769\n"
     ]
    }
   ],
   "source": [
    "results = model.evaluate(x_test, oh_test_labels)"
   ]
  },
  {
   "cell_type": "code",
   "execution_count": 41,
   "id": "0c1f2bad",
   "metadata": {},
   "outputs": [
    {
     "data": {
      "text/plain": [
       "[1.5587319135665894, 0.7769367694854736]"
      ]
     },
     "execution_count": 41,
     "metadata": {},
     "output_type": "execute_result"
    }
   ],
   "source": [
    "results"
   ]
  },
  {
   "cell_type": "markdown",
   "id": "7ae2681b",
   "metadata": {},
   "source": [
    "Este modelo consigue una exactitud aproximada del 78%"
   ]
  },
  {
   "cell_type": "code",
   "execution_count": 42,
   "id": "bd0131aa",
   "metadata": {},
   "outputs": [
    {
     "name": "stdout",
     "output_type": "stream",
     "text": [
      "71/71 [==============================] - 0s 1ms/step\n"
     ]
    }
   ],
   "source": [
    "# Generar predicciones para nuevos datos\n",
    "predictions = model.predict(x_test)"
   ]
  },
  {
   "cell_type": "code",
   "execution_count": 44,
   "id": "408f5f74",
   "metadata": {},
   "outputs": [
    {
     "data": {
      "text/plain": [
       "(46,)"
      ]
     },
     "execution_count": 44,
     "metadata": {},
     "output_type": "execute_result"
    }
   ],
   "source": [
    "# Cada entrada en predictions es un vector de longitud 46\n",
    "predictions[0].shape"
   ]
  },
  {
   "cell_type": "code",
   "execution_count": 45,
   "id": "32b07246",
   "metadata": {},
   "outputs": [
    {
     "data": {
      "text/plain": [
       "1.0"
      ]
     },
     "execution_count": 45,
     "metadata": {},
     "output_type": "execute_result"
    }
   ],
   "source": [
    "# Los coeficientes en este vector suma 1\n",
    "np.sum(predictions[0])"
   ]
  },
  {
   "cell_type": "code",
   "execution_count": 46,
   "id": "14d06a9e",
   "metadata": {},
   "outputs": [
    {
     "data": {
      "text/plain": [
       "3"
      ]
     },
     "execution_count": 46,
     "metadata": {},
     "output_type": "execute_result"
    }
   ],
   "source": [
    "# La clase predicha, es decir, con la mayor probabilidad es:\n",
    "np.argmax(predictions[0])"
   ]
  },
  {
   "cell_type": "markdown",
   "id": "bfe5d6db",
   "metadata": {},
   "source": [
    "### Formas diferentes de maneras las etiquetas y perdida\n",
    "\n",
    "El enfoque cambiaría la elección de función de pérdida, que permite etiquetas de enteros, utilizando: _sparse_categorical_crossentropy_"
   ]
  },
  {
   "cell_type": "code",
   "execution_count": 47,
   "id": "36770f8f",
   "metadata": {},
   "outputs": [],
   "source": [
    "y_train = np.array(train_labels)\n",
    "y_test = np.array(test_labels)"
   ]
  },
  {
   "cell_type": "code",
   "execution_count": 49,
   "id": "d789ea30",
   "metadata": {},
   "outputs": [],
   "source": [
    "model.compile(optimizer='rmsprop',\n",
    "              loss='sparse_categorical_crossentropy',\n",
    "              metrics=['accuracy'])"
   ]
  },
  {
   "cell_type": "markdown",
   "id": "b7a3ce0d",
   "metadata": {},
   "source": [
    "## Resumen\n",
    "\n",
    "- Si trabajamos en clasificación de N clases, la red debe terminar en una capa _Dense_ de tamaño N\n",
    "- En clasificación multiclase de una sola etiqueta, la red debe utilizar una activación _softmax_, para generar una salida con distribución sobre N clases\n",
    "- La entropia cruzada categorica es casi siempre la mejor función de pérdida para este tipo de problemas\n",
    "- Al clasificar datos en una gran cantidad de categorías, se debe evidtar crear cuellos de botella de información en la red en las capas intermedias\n"
   ]
  }
 ],
 "metadata": {
  "kernelspec": {
   "display_name": "Python 3 (ipykernel)",
   "language": "python",
   "name": "python3"
  },
  "language_info": {
   "codemirror_mode": {
    "name": "ipython",
    "version": 3
   },
   "file_extension": ".py",
   "mimetype": "text/x-python",
   "name": "python",
   "nbconvert_exporter": "python",
   "pygments_lexer": "ipython3",
   "version": "3.8.8"
  }
 },
 "nbformat": 4,
 "nbformat_minor": 5
}
