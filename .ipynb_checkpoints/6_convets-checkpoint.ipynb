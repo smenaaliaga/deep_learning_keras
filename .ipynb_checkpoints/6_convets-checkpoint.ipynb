{
 "cells": [
  {
   "cell_type": "markdown",
   "id": "95567e42-c458-4476-8588-b68c5fce4569",
   "metadata": {},
   "source": [
    "# Redes Neuronales Convolucionales (convets o CNN)\n",
    "\n",
    "Se trata de un tipo de modelo casi universal en la aplicación de visión por ordenador."
   ]
  },
  {
   "cell_type": "code",
   "execution_count": 10,
   "id": "a0fa7915-3694-43cd-8937-6811916ae80f",
   "metadata": {},
   "outputs": [],
   "source": [
    "from keras.datasets import mnist\n",
    "from keras.utils import to_categorical\n",
    "\n",
    "(train_images, train_labels), (test_images, test_labels) = mnist.load_data()\n",
    "\n",
    "train_images = train_images.reshape((60000, 28, 28, 1))\n",
    "train_images = train_images.astype('float32') / 255\n",
    "\n",
    "test_images = test_images.reshape((10000, 28, 28, 1))\n",
    "test_images = test_images.astype('float32') / 255\n",
    "\n",
    "train_labels = to_categorical(train_labels)\n",
    "test_labels = to_categorical(test_labels)"
   ]
  },
  {
   "cell_type": "code",
   "execution_count": 11,
   "id": "e5c8aa86-92e5-44f5-bff8-eb47db00d38a",
   "metadata": {},
   "outputs": [],
   "source": [
    "from keras import layers\n",
    "from keras import models\n",
    "\n",
    "model = models.Sequential()\n",
    "model.add(layers.Conv2D(32, (3, 3), activation='relu', input_shape=(28, 28, 1)))\n",
    "model.add(layers.MaxPooling2D((2, 2)))\n",
    "model.add(layers.Conv2D(64, (3, 3), activation='relu'))\n",
    "model.add(layers.MaxPooling2D((2, 2)))\n",
    "model.add(layers.Conv2D(64, (3, 3), activation='relu'))"
   ]
  },
  {
   "cell_type": "markdown",
   "id": "e42b0325-561c-423f-9f04-2d891bec8073",
   "metadata": {},
   "source": [
    "Los _convet_ toma como entrada tensores con la forma (altura_imagen, anchura_imagen, canales_imagen). En este caso, configuramos las _convet_ para que procese la entrada de tamaño (28, 28, 1), que es el formato de las imagenes MNIST. input_shape=(28, 28, 1)."
   ]
  },
  {
   "cell_type": "markdown",
   "id": "38353da5-6f9d-49d4-8f4b-b6b99182d37f",
   "metadata": {},
   "source": [
    "Las capas Conv2D aplican un conjunto de filtros (también conocidos como kernels) a una entrada bidimensional (por ejemplo, una imagen) para crear un conjunto de mapas de características. "
   ]
  },
  {
   "cell_type": "code",
   "execution_count": 3,
   "id": "8a0f5ad3-f15c-4ea1-888a-958c29c659df",
   "metadata": {},
   "outputs": [
    {
     "name": "stdout",
     "output_type": "stream",
     "text": [
      "Model: \"sequential\"\n",
      "_________________________________________________________________\n",
      " Layer (type)                Output Shape              Param #   \n",
      "=================================================================\n",
      " conv2d (Conv2D)             (None, 26, 26, 32)        320       \n",
      "                                                                 \n",
      " max_pooling2d (MaxPooling2D  (None, 13, 13, 32)       0         \n",
      " )                                                               \n",
      "                                                                 \n",
      " conv2d_1 (Conv2D)           (None, 11, 11, 64)        18496     \n",
      "                                                                 \n",
      " max_pooling2d_1 (MaxPooling  (None, 5, 5, 64)         0         \n",
      " 2D)                                                             \n",
      "                                                                 \n",
      " conv2d_2 (Conv2D)           (None, 3, 3, 64)          36928     \n",
      "                                                                 \n",
      "=================================================================\n",
      "Total params: 55,744\n",
      "Trainable params: 55,744\n",
      "Non-trainable params: 0\n",
      "_________________________________________________________________\n"
     ]
    }
   ],
   "source": [
    "# Resumen de la arquitectura de la convet\n",
    "model.summary()"
   ]
  },
  {
   "cell_type": "markdown",
   "id": "d2b735f1-c23a-4617-b741-dd2f80fc4db0",
   "metadata": {},
   "source": [
    "La salida de cada capa _Conv2D_ y _MaxPooling2D_ es un tensor 3D con la forma (altura, anchura, canales).\n",
    "\n",
    "La dimensión de anchura y altura tienden a reducirse a medida que profundizamos en la red.\n",
    "\n",
    "El número de canales está controlado por el primer argumento pasado en las capas _Conv2D_ (32 O 64)."
   ]
  },
  {
   "cell_type": "code",
   "execution_count": null,
   "id": "84abd083-97a7-455b-a2ab-55124bb48cca",
   "metadata": {},
   "outputs": [],
   "source": [
    "# NO CORRER\n",
    "model.add(Conv2D(filters=32, \n",
    "                 kernel_size=(3, 3), \n",
    "                 strides=(1, 1), \n",
    "                 padding='valid', \n",
    "                 activation='relu', \n",
    "                 input_shape=(64, 64, 3)))"
   ]
  },
  {
   "cell_type": "markdown",
   "id": "947ed002-7751-4f30-b2d9-71f4445fb2a2",
   "metadata": {},
   "source": [
    "- filters=32: Especifica que habrá 32 filtros/kernels diferentes en la capa.\n",
    "- kernel_size=(3, 3): Define el tamaño de los filtros como 3x3.\n",
    "- strides=(1, 1): Establece el stride a 1 en ambas dimensiones.\n",
    "- padding='valid': Indica que no se utilizará padding.\n",
    "- activation='relu': Usa la función de activación ReLU.\n",
    "- input_shape=(64, 64, 3): Define la forma de la entrada, en este caso, imágenes de 64x64 con 3 canales (RGB)."
   ]
  },
  {
   "cell_type": "markdown",
   "id": "1eb46953-f347-4738-8300-fcf19e639a0b",
   "metadata": {},
   "source": [
    "El siguiente paso es introducir el último tensor con entrada (3, 3, 64) en una red clasificadora densamente conectada, pilas _Dense_. Estas redes procesan vectores 1D, mentras que la salida actual es un Tensor 3D. Entonces, tenemos que aplanar la salida de 3D a 1D, y luego aplicar capas _Dense_."
   ]
  },
  {
   "cell_type": "code",
   "execution_count": 12,
   "id": "7418ec35-5931-4657-8614-edbff3a9e47c",
   "metadata": {},
   "outputs": [],
   "source": [
    "model.add(layers.Flatten())\n",
    "model.add(layers.Dense(64, activation='relu'))\n",
    "model.add(layers.Dense(10, activation='softmax'))"
   ]
  },
  {
   "cell_type": "code",
   "execution_count": 13,
   "id": "7daf0740-72e0-4d5d-b4b8-684f4b6ffb58",
   "metadata": {},
   "outputs": [
    {
     "name": "stdout",
     "output_type": "stream",
     "text": [
      "Model: \"sequential_1\"\n",
      "_________________________________________________________________\n",
      " Layer (type)                Output Shape              Param #   \n",
      "=================================================================\n",
      " conv2d_3 (Conv2D)           (None, 26, 26, 32)        320       \n",
      "                                                                 \n",
      " max_pooling2d_2 (MaxPooling  (None, 13, 13, 32)       0         \n",
      " 2D)                                                             \n",
      "                                                                 \n",
      " conv2d_4 (Conv2D)           (None, 11, 11, 64)        18496     \n",
      "                                                                 \n",
      " max_pooling2d_3 (MaxPooling  (None, 5, 5, 64)         0         \n",
      " 2D)                                                             \n",
      "                                                                 \n",
      " conv2d_5 (Conv2D)           (None, 3, 3, 64)          36928     \n",
      "                                                                 \n",
      " flatten_1 (Flatten)         (None, 576)               0         \n",
      "                                                                 \n",
      " dense_2 (Dense)             (None, 64)                36928     \n",
      "                                                                 \n",
      " dense_3 (Dense)             (None, 10)                650       \n",
      "                                                                 \n",
      "=================================================================\n",
      "Total params: 93,322\n",
      "Trainable params: 93,322\n",
      "Non-trainable params: 0\n",
      "_________________________________________________________________\n"
     ]
    }
   ],
   "source": [
    "model.summary()"
   ]
  },
  {
   "cell_type": "markdown",
   "id": "81e33e61-f75f-4f4d-be80-89bdfa9a5027",
   "metadata": {},
   "source": [
    "Como se observa, la salida (3, 3, 64) se ha aplanado para convertirse en vectores con forma (576,), antes de pasar por dos capas _Dense_."
   ]
  },
  {
   "cell_type": "code",
   "execution_count": 14,
   "id": "9f7d8a00-1591-4735-b522-a62420f7d83d",
   "metadata": {},
   "outputs": [
    {
     "name": "stdout",
     "output_type": "stream",
     "text": [
      "Epoch 1/5\n",
      "938/938 [==============================] - 20s 20ms/step - loss: 0.1764 - accuracy: 0.9449\n",
      "Epoch 2/5\n",
      "938/938 [==============================] - 21s 22ms/step - loss: 0.0467 - accuracy: 0.9859\n",
      "Epoch 3/5\n",
      "938/938 [==============================] - 20s 22ms/step - loss: 0.0326 - accuracy: 0.9900\n",
      "Epoch 4/5\n",
      "938/938 [==============================] - 20s 21ms/step - loss: 0.0253 - accuracy: 0.9920\n",
      "Epoch 5/5\n",
      "938/938 [==============================] - 20s 21ms/step - loss: 0.0196 - accuracy: 0.9939\n"
     ]
    },
    {
     "data": {
      "text/plain": [
       "<keras.callbacks.History at 0x1f88305cd00>"
      ]
     },
     "execution_count": 14,
     "metadata": {},
     "output_type": "execute_result"
    }
   ],
   "source": [
    "model.compile(optimizer='rmsprop',\n",
    "              loss='categorical_crossentropy',\n",
    "              metrics=['accuracy'])\n",
    "model.fit(train_images, train_labels, epochs=5, batch_size=64)"
   ]
  },
  {
   "cell_type": "code",
   "execution_count": 15,
   "id": "db0ec3b8-af35-4366-aafd-61e73830f006",
   "metadata": {},
   "outputs": [
    {
     "name": "stdout",
     "output_type": "stream",
     "text": [
      "313/313 [==============================] - 1s 4ms/step - loss: 0.0254 - accuracy: 0.9923\n"
     ]
    },
    {
     "data": {
      "text/plain": [
       "0.9922999739646912"
      ]
     },
     "execution_count": 15,
     "metadata": {},
     "output_type": "execute_result"
    }
   ],
   "source": [
    "# Evaluación del modelo\n",
    "test_loss, test_acc = model.evaluate(test_images, test_labels)\n",
    "test_acc"
   ]
  }
 ],
 "metadata": {
  "kernelspec": {
   "display_name": "Python 3 (ipykernel)",
   "language": "python",
   "name": "python3"
  },
  "language_info": {
   "codemirror_mode": {
    "name": "ipython",
    "version": 3
   },
   "file_extension": ".py",
   "mimetype": "text/x-python",
   "name": "python",
   "nbconvert_exporter": "python",
   "pygments_lexer": "ipython3",
   "version": "3.8.8"
  }
 },
 "nbformat": 4,
 "nbformat_minor": 5
}
