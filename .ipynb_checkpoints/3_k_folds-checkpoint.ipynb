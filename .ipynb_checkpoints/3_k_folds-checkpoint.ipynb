{
 "cells": [
  {
   "cell_type": "markdown",
   "id": "c47ed197-1235-4e62-b8a9-77f679fd9dfc",
   "metadata": {},
   "source": [
    "# Validación por k-folds Cross-Validation\n",
    "\n",
    "Se divide los datos en K grupos del mismo tamaño. Para cada grupo i-esimo, entrenamos un modelo con los K-1 grupos restantes y lo evaluamos con el grupo i.\n",
    "\n",
    "<img src=\"https://miro.medium.com/v2/resize:fit:1400/format:webp/1*AAwIlHM8TpAVe4l2FihNUQ.png\" width=\"600\" height=\"900\">"
   ]
  },
  {
   "cell_type": "code",
   "execution_count": 2,
   "id": "c94bbcd8-ee7e-4a6f-8f8c-eab0d890a532",
   "metadata": {},
   "outputs": [],
   "source": [
    "from keras.datasets import imdb\n",
    "\n",
    "(train_data, train_labels), (test_data, test_labels) = imdb.load_data(num_words=10000)"
   ]
  },
  {
   "cell_type": "code",
   "execution_count": 6,
   "id": "b9dee97d-0c92-4b24-a8c3-3b849982dab7",
   "metadata": {},
   "outputs": [],
   "source": [
    "import numpy as np\n",
    "\n",
    "# Codificación\n",
    "def vectorize_sequence(sequences, dimension=10000):\n",
    "    res = np.zeros((len(sequences), dimension))\n",
    "    for i, sequence in enumerate(sequences):\n",
    "        res[i, sequence] = 1\n",
    "    return res"
   ]
  },
  {
   "cell_type": "code",
   "execution_count": 7,
   "id": "daa653fc-09ad-40aa-9840-542988b1318b",
   "metadata": {},
   "outputs": [],
   "source": [
    "x_train = vectorize_sequence(train_data)\n",
    "x_test = vectorize_sequence(test_data)"
   ]
  },
  {
   "cell_type": "code",
   "execution_count": 21,
   "id": "df7751d3-27c5-439a-9367-9e4f9f9964d6",
   "metadata": {},
   "outputs": [],
   "source": [
    "y_train = np.asarray(train_labels).astype('float32')\n",
    "y_test = np.asarray(test_labels).astype('float32')"
   ]
  },
  {
   "cell_type": "code",
   "execution_count": 18,
   "id": "fbd7efb8-292b-45a1-8c4a-f64cfd471e95",
   "metadata": {},
   "outputs": [],
   "source": [
    "from sklearn.model_selection import KFold\n",
    "from tensorflow.keras.models import Sequential\n",
    "from tensorflow.keras.layers import Dense"
   ]
  },
  {
   "cell_type": "code",
   "execution_count": 25,
   "id": "5629496c-90de-46b1-aab0-d18b4fc71f0f",
   "metadata": {},
   "outputs": [],
   "source": [
    "def create_model():\n",
    "    # Crear y retornar un nuevo modelo\n",
    "    modelo = Sequential([\n",
    "        Dense(64, activation='relu', input_shape=(x_train.shape[1],)),\n",
    "        Dense(64, activation='relu'),\n",
    "        Dense(1, activation='sigmoid'),\n",
    "    ])\n",
    "    modelo.compile(optimizer='adam', loss='binary_crossentropy', metrics=['accuracy'])\n",
    "    return modelo"
   ]
  },
  {
   "cell_type": "code",
   "execution_count": 26,
   "id": "1dc9255f-1e1e-468e-8817-196662e36c82",
   "metadata": {},
   "outputs": [],
   "source": [
    "# Número de folds\n",
    "k = 5\n",
    "# Definición de K-fold cross validation\n",
    "kfold = KFold(n_splits=k, shuffle=True, random_state=1)\n",
    "# Lista para almacenar resultados\n",
    "resultados = []"
   ]
  },
  {
   "cell_type": "code",
   "execution_count": 29,
   "id": "64dd212b-2866-407b-a3c4-a8b58bcda677",
   "metadata": {},
   "outputs": [],
   "source": [
    "for train, test in kfold.split(x_train, y_train):\n",
    "    # Crear modelo\n",
    "    modelo = create_model()\n",
    "    # Entrenar el modelo\n",
    "    modelo.fit(x_train[train], y_train[train], epochs=50, batch_size=32, verbose=0)\n",
    "    # Evaluar el modelo\n",
    "    score = modelo.evaluate(x_train[test], y_train[test], verbose=0)\n",
    "    # Almacenar resultados\n",
    "    resultados.append(score[1])"
   ]
  },
  {
   "cell_type": "code",
   "execution_count": 32,
   "id": "8ff6fb02-60b6-44a0-bdcd-7eb5fdbe0b3f",
   "metadata": {},
   "outputs": [
    {
     "name": "stdout",
     "output_type": "stream",
     "text": [
      "Resultados por fold: [0.5041999816894531, 0.5116000175476074, 0.49959999322891235, 0.49559998512268066, 0.4984000027179718]\n",
      "Resultado final: 0.501879996061325 ± 0.005596578508045747\n"
     ]
    }
   ],
   "source": [
    "print(f'Resultados por fold: {resultados}')\n",
    "print(f'Resultado final: {np.mean(resultados)} ± {np.std(resultados)}')"
   ]
  },
  {
   "cell_type": "markdown",
   "id": "d7e552cb-2913-4f1a-9e47-c0b59c082121",
   "metadata": {},
   "source": [
    "## Barajar los datos"
   ]
  },
  {
   "cell_type": "code",
   "execution_count": 30,
   "id": "563c9c94-e1e2-4b37-b741-26e6777d7ec8",
   "metadata": {},
   "outputs": [],
   "source": [
    "import numpy as np\n",
    "\n",
    "# Supongamos que x_train es tu matriz de datos de forma (2500, 10000)\n",
    "# y_train y es tu vector de etiquetas de forma (2500,)\n",
    "\n",
    "# Crear un array de índices y barajarlo\n",
    "indices = np.arange(x_train.shape[0])\n",
    "np.random.shuffle(indices)\n",
    "\n",
    "# Aplicar los índices barajados a X e y\n",
    "X = x_train[indices]\n",
    "y = y_train[indices]"
   ]
  },
  {
   "cell_type": "markdown",
   "id": "73dc62bc-b6db-41a4-9c35-fdcce0f6b606",
   "metadata": {},
   "source": [
    "Este método asegura que los datos y las etiquetas correspondientes sigan estando alineados después del barajado."
   ]
  },
  {
   "cell_type": "markdown",
   "id": "d48cafaa-ee98-416a-9c20-21c2b7f9a30f",
   "metadata": {},
   "source": [
    "## A tener en cuenta\n",
    "\n",
    "- __Representatividad de los datos__. El conjunto de datos de entrenamiento como pruebas debe ser representativo.\n",
    "- __Flecha del tiempo__: Si se desea predecir el futuro dado el pasado, no se debe mezclar los datos aleatoriamente antes de dividirlos, dado que se crearía una fuga de información y, se entrenaría con datos del futuro. Se debe verificar que los datos del conjunto de prueba son posteriores a los del conjunto de entrenamiento.\n",
    "- __Redundancia de datos__: Los conjuntos de entrenamiento y validación deben ser diferente."
   ]
  }
 ],
 "metadata": {
  "kernelspec": {
   "display_name": "Python 3 (ipykernel)",
   "language": "python",
   "name": "python3"
  },
  "language_info": {
   "codemirror_mode": {
    "name": "ipython",
    "version": 3
   },
   "file_extension": ".py",
   "mimetype": "text/x-python",
   "name": "python",
   "nbconvert_exporter": "python",
   "pygments_lexer": "ipython3",
   "version": "3.8.8"
  }
 },
 "nbformat": 4,
 "nbformat_minor": 5
}
