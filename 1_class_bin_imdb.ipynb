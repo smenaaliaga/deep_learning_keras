{
 "cells": [
  {
   "cell_type": "markdown",
   "id": "c2861d8d-4024-46ea-8e35-f28eb0fc511a",
   "metadata": {},
   "source": [
    "# Ejemplo Clasificación Binaria\n",
    "\n",
    "Modelo de Redes Neuronales para clasificación binaria de peliculas (positivas o negativas) de un conjuto de datos de IMDB"
   ]
  },
  {
   "cell_type": "code",
   "execution_count": 1,
   "id": "bde64982-44c5-4416-8921-f0aaeba0b6de",
   "metadata": {},
   "outputs": [],
   "source": [
    "from keras.datasets import imdb"
   ]
  },
  {
   "cell_type": "code",
   "execution_count": 14,
   "id": "b067c337-2f96-4f4a-9fa8-0c2c7e71cc10",
   "metadata": {},
   "outputs": [],
   "source": [
    "(train_data, train_labels), (test_data, test_labels) = imdb.load_data(num_words=10000)"
   ]
  },
  {
   "cell_type": "code",
   "execution_count": 16,
   "id": "20276233-24ce-4ecd-a24d-c5751ac14a53",
   "metadata": {},
   "outputs": [
    {
     "name": "stdout",
     "output_type": "stream",
     "text": [
      "? this film was just brilliant casting location scenery story direction everyone's really suited the part they played and you could just imagine being there robert ? is an amazing actor and now the same being director ? father came from the same scottish island as myself so i loved the fact there was a real connection with this film the witty remarks throughout the film were great it was just brilliant so much that i bought the film as soon as it was released for ? and would recommend it to everyone to watch and the fly fishing was amazing really cried at the end it was so sad and you know what they say if you cry at a film it must have been good and this definitely was also ? to the two little boy's that played the ? of norman and paul they were just brilliant children are often left out of the ? list i think because the stars that play them all grown up are such a big profile for the whole film but these children are amazing and should be praised for what they have done don't you think the whole story was so lovely because it was true and was someone's life after all that was shared with us all\n",
      "1\n"
     ]
    }
   ],
   "source": [
    "word_index = imdb.get_word_index()\n",
    "reverse_word_index = dict([(value, key) for (key, value) in word_index.items()])\n",
    "decode_review = ' '.join([reverse_word_index.get(i-3, '?') for i in train_data[0]])\n",
    "print(decode_review)\n",
    "print(train_labels[0])"
   ]
  },
  {
   "cell_type": "code",
   "execution_count": 17,
   "id": "36001fb3-381c-4842-a63b-2a95bb0bf40d",
   "metadata": {},
   "outputs": [],
   "source": [
    "import numpy as np"
   ]
  },
  {
   "cell_type": "code",
   "execution_count": 20,
   "id": "17233915-5b6a-428f-9e47-c6dcea0e659b",
   "metadata": {},
   "outputs": [],
   "source": [
    "# Codificación\n",
    "def vectorize_sequence(sequences, dimension=10000):\n",
    "    res = np.zeros((len(sequences), dimension))\n",
    "    for i, sequence in enumerate(sequences):\n",
    "        res[i, sequence] = 1\n",
    "    return res"
   ]
  },
  {
   "cell_type": "code",
   "execution_count": 21,
   "id": "ce779d4f-3450-4b1b-bbee-406bdc1973dd",
   "metadata": {},
   "outputs": [],
   "source": [
    "x_train = vectorize_sequence(train_data)\n",
    "x_test = vectorize_sequence(test_data)"
   ]
  },
  {
   "cell_type": "code",
   "execution_count": 23,
   "id": "f1d0b1e8-37f0-415e-8dba-6a84669bc990",
   "metadata": {},
   "outputs": [],
   "source": [
    "y_train = np.asarray(train_labels).astype('float32')\n",
    "y_test = np.asarray(test_labels).astype('float32')"
   ]
  },
  {
   "cell_type": "code",
   "execution_count": 45,
   "id": "06afc3e9-736f-4c88-b223-6fc7876b4f20",
   "metadata": {},
   "outputs": [],
   "source": [
    "from keras import models\n",
    "from keras import layers"
   ]
  },
  {
   "cell_type": "code",
   "execution_count": 48,
   "id": "72e186f2-9b59-4d14-86c8-9eb5179cfc47",
   "metadata": {},
   "outputs": [],
   "source": [
    "# Definición del modelo\n",
    "model = models.Sequential()\n",
    "model.add(layers.Dense(16, activation='relu', input_shape=(10000,)))\n",
    "model.add(layers.Dense(16, activation='relu'))\n",
    "model.add(layers.Dense(1, activation='sigmoid'))"
   ]
  },
  {
   "cell_type": "code",
   "execution_count": 49,
   "id": "848145ab-453b-4361-8662-a5dc89dbd754",
   "metadata": {},
   "outputs": [],
   "source": [
    "# Compilación del modelo\n",
    "model.compile(optimizer='rmsprop',\n",
    "              loss='binary_crossentropy',\n",
    "              metrics=['accuracy'])"
   ]
  },
  {
   "cell_type": "code",
   "execution_count": 51,
   "id": "b32c6b1b-6e9d-4823-8032-e135194ce40e",
   "metadata": {},
   "outputs": [],
   "source": [
    "# Conjunto de validación\n",
    "x_val = x_train[:10000]\n",
    "partial_x_train = x_train[10000:]\n",
    "\n",
    "y_val = y_train[:10000]\n",
    "partial_y_train = y_train[10000:]"
   ]
  },
  {
   "cell_type": "code",
   "execution_count": 53,
   "id": "40477bcb-d802-46a6-9fec-918a0b0e7d79",
   "metadata": {},
   "outputs": [
    {
     "name": "stdout",
     "output_type": "stream",
     "text": [
      "Epoch 1/20\n",
      "30/30 [==============================] - 5s 105ms/step - loss: 0.5263 - accuracy: 0.7802 - val_loss: 0.3888 - val_accuracy: 0.8719\n",
      "Epoch 2/20\n",
      "30/30 [==============================] - 1s 28ms/step - loss: 0.3126 - accuracy: 0.9025 - val_loss: 0.3071 - val_accuracy: 0.8873\n",
      "Epoch 3/20\n",
      "30/30 [==============================] - 1s 26ms/step - loss: 0.2293 - accuracy: 0.9266 - val_loss: 0.2785 - val_accuracy: 0.8911\n",
      "Epoch 4/20\n",
      "30/30 [==============================] - 1s 25ms/step - loss: 0.1812 - accuracy: 0.9404 - val_loss: 0.2732 - val_accuracy: 0.8920\n",
      "Epoch 5/20\n",
      "30/30 [==============================] - 1s 23ms/step - loss: 0.1463 - accuracy: 0.9536 - val_loss: 0.2797 - val_accuracy: 0.8896\n",
      "Epoch 6/20\n",
      "30/30 [==============================] - 1s 23ms/step - loss: 0.1220 - accuracy: 0.9604 - val_loss: 0.2893 - val_accuracy: 0.8863\n",
      "Epoch 7/20\n",
      "30/30 [==============================] - 1s 23ms/step - loss: 0.1007 - accuracy: 0.9709 - val_loss: 0.3088 - val_accuracy: 0.8859\n",
      "Epoch 8/20\n",
      "30/30 [==============================] - 1s 24ms/step - loss: 0.0843 - accuracy: 0.9750 - val_loss: 0.3455 - val_accuracy: 0.8766\n",
      "Epoch 9/20\n",
      "30/30 [==============================] - 1s 24ms/step - loss: 0.0714 - accuracy: 0.9793 - val_loss: 0.3569 - val_accuracy: 0.8781\n",
      "Epoch 10/20\n",
      "30/30 [==============================] - 1s 24ms/step - loss: 0.0571 - accuracy: 0.9863 - val_loss: 0.3904 - val_accuracy: 0.8738\n",
      "Epoch 11/20\n",
      "30/30 [==============================] - 1s 24ms/step - loss: 0.0474 - accuracy: 0.9889 - val_loss: 0.4018 - val_accuracy: 0.8764\n",
      "Epoch 12/20\n",
      "30/30 [==============================] - 1s 24ms/step - loss: 0.0384 - accuracy: 0.9919 - val_loss: 0.4342 - val_accuracy: 0.8742\n",
      "Epoch 13/20\n",
      "30/30 [==============================] - 1s 23ms/step - loss: 0.0308 - accuracy: 0.9934 - val_loss: 0.4659 - val_accuracy: 0.8711\n",
      "Epoch 14/20\n",
      "30/30 [==============================] - 1s 23ms/step - loss: 0.0249 - accuracy: 0.9953 - val_loss: 0.5229 - val_accuracy: 0.8649\n",
      "Epoch 15/20\n",
      "30/30 [==============================] - 1s 24ms/step - loss: 0.0209 - accuracy: 0.9965 - val_loss: 0.5265 - val_accuracy: 0.8708\n",
      "Epoch 16/20\n",
      "30/30 [==============================] - 1s 24ms/step - loss: 0.0157 - accuracy: 0.9981 - val_loss: 0.5623 - val_accuracy: 0.8683\n",
      "Epoch 17/20\n",
      "30/30 [==============================] - 1s 23ms/step - loss: 0.0150 - accuracy: 0.9972 - val_loss: 0.5961 - val_accuracy: 0.8666\n",
      "Epoch 18/20\n",
      "30/30 [==============================] - 1s 24ms/step - loss: 0.0080 - accuracy: 0.9995 - val_loss: 0.6336 - val_accuracy: 0.8657\n",
      "Epoch 19/20\n",
      "30/30 [==============================] - 1s 24ms/step - loss: 0.0084 - accuracy: 0.9992 - val_loss: 0.6687 - val_accuracy: 0.8649\n",
      "Epoch 20/20\n",
      "30/30 [==============================] - 1s 22ms/step - loss: 0.0090 - accuracy: 0.9984 - val_loss: 0.7013 - val_accuracy: 0.8662\n"
     ]
    }
   ],
   "source": [
    "# Entrenamiento del modelo\n",
    "history = model.fit(partial_x_train,\n",
    "                    partial_y_train,\n",
    "                    epochs=20,\n",
    "                    batch_size=512,\n",
    "                    validation_data=(x_val, y_val))"
   ]
  },
  {
   "cell_type": "code",
   "execution_count": 54,
   "id": "817d5cff-68f3-4cf5-b463-6658e186369d",
   "metadata": {},
   "outputs": [],
   "source": [
    "import matplotlib.pyplot as plt"
   ]
  },
  {
   "cell_type": "code",
   "execution_count": 55,
   "id": "47d04a8d-ed18-41c7-91b0-36b97c5780a5",
   "metadata": {},
   "outputs": [],
   "source": [
    "history_dict = history.history\n",
    "loss_values = history_dict['loss']\n",
    "val_loss_values = history_dict['val_loss']"
   ]
  },
  {
   "cell_type": "code",
   "execution_count": 56,
   "id": "60fe315f-2c34-49b1-9f11-49be564052c3",
   "metadata": {},
   "outputs": [],
   "source": [
    "epochs = range(1, len(loss_values) + 1)"
   ]
  },
  {
   "cell_type": "code",
   "execution_count": 57,
   "id": "e87c7c3d-2e62-4f20-b98b-aa2454b4512b",
   "metadata": {},
   "outputs": [
    {
     "data": {
      "image/png": "[encoded data removed]",
      "text/plain": [
       "<Figure size 640x480 with 1 Axes>"
      ]
     },
     "metadata": {},
     "output_type": "display_data"
    }
   ],
   "source": [
    "plt.plot(epochs, loss_values, 'bo', label='Training loss')\n",
    "plt.plot(epochs, val_loss_values, 'b', label='Validation loss')\n",
    "plt.title('Training and validation loss')\n",
    "plt.xlabel('Epochs')\n",
    "plt.ylabel('Loss')\n",
    "plt.legend()\n",
    "\n",
    "plt.show()"
   ]
  },
  {
   "cell_type": "code",
   "execution_count": 62,
   "id": "7430fffc-0fd0-4ff4-890c-b87b0dbabc48",
   "metadata": {},
   "outputs": [
    {
     "data": {
      "image/png": "[encoded data removed]",
      "text/plain": [
       "<Figure size 640x480 with 1 Axes>"
      ]
     },
     "metadata": {},
     "output_type": "display_data"
    }
   ],
   "source": [
    "plt.clf()\n",
    "acc = history_dict['accuracy']\n",
    "val_acc = history_dict['val_accuracy']\n",
    "\n",
    "plt.plot(epochs, acc, 'bo', label='Training acc')\n",
    "plt.plot(epochs, val_acc, 'b', label='Validation acc')\n",
    "plt.title('Training and validation accuracy')\n",
    "plt.xlabel('Epochs')\n",
    "plt.ylabel('Accuracy')\n",
    "plt.legend()\n",
    "\n",
    "plt.show()"
   ]
  },
  {
   "cell_type": "markdown",
   "id": "9feeaa56-770f-438a-b036-5fdbc6bcced0",
   "metadata": {},
   "source": [
    "Se observa que la perdida y exactitud encuentrar puntos óptimos en la 4ta retropropagación. Luego, se observa que comienza un sobreajuste. Por lo tanto, se re-entrena el modelo solo con 4 retropropagaciones. "
   ]
  },
  {
   "cell_type": "code",
   "execution_count": 64,
   "id": "84052e2a-737a-437a-b6cc-9f3391af8d39",
   "metadata": {},
   "outputs": [
    {
     "name": "stdout",
     "output_type": "stream",
     "text": [
      "Epoch 1/4\n",
      "49/49 [==============================] - 1s 16ms/step - loss: 0.2439 - accuracy: 0.9460\n",
      "Epoch 2/4\n",
      "49/49 [==============================] - 1s 16ms/step - loss: 0.1414 - accuracy: 0.9597\n",
      "Epoch 3/4\n",
      "49/49 [==============================] - 1s 19ms/step - loss: 0.1113 - accuracy: 0.9668\n",
      "Epoch 4/4\n",
      "49/49 [==============================] - 1s 17ms/step - loss: 0.0911 - accuracy: 0.9735\n"
     ]
    },
    {
     "data": {
      "text/plain": [
       "<keras.callbacks.History at 0x2656fb76700>"
      ]
     },
     "execution_count": 64,
     "metadata": {},
     "output_type": "execute_result"
    }
   ],
   "source": [
    "model.fit(x_train, y_train, epochs=4, batch_size=512)"
   ]
  },
  {
   "cell_type": "code",
   "execution_count": 65,
   "id": "c17b0a08-f32c-4a3c-ba13-ec7336be3f95",
   "metadata": {},
   "outputs": [
    {
     "name": "stdout",
     "output_type": "stream",
     "text": [
      "782/782 [==============================] - 2s 3ms/step - loss: 0.5031 - accuracy: 0.8570\n"
     ]
    }
   ],
   "source": [
    "res = model.evaluate(x_test, y_test)"
   ]
  },
  {
   "cell_type": "code",
   "execution_count": 66,
   "id": "a237a71d-9241-4b47-9391-51b51b8badfd",
   "metadata": {},
   "outputs": [
    {
     "data": {
      "text/plain": [
       "[0.5031263828277588, 0.8569999933242798]"
      ]
     },
     "execution_count": 66,
     "metadata": {},
     "output_type": "execute_result"
    }
   ],
   "source": [
    "res"
   ]
  },
  {
   "cell_type": "code",
   "execution_count": 68,
   "id": "c7ca6028-d304-48b1-b11f-ba17d52e139a",
   "metadata": {},
   "outputs": [
    {
     "name": "stdout",
     "output_type": "stream",
     "text": [
      "782/782 [==============================] - 3s 3ms/step\n"
     ]
    },
    {
     "data": {
      "text/plain": [
       "array([[0.00540116],\n",
       "       [0.99994415],\n",
       "       [0.86779475],\n",
       "       ...,\n",
       "       [0.09820241],\n",
       "       [0.03175642],\n",
       "       [0.8201214 ]], dtype=float32)"
      ]
     },
     "execution_count": 68,
     "metadata": {},
     "output_type": "execute_result"
    }
   ],
   "source": [
    "# Se generan predicciones\n",
    "model.predict(x_test)"
   ]
  },
  {
   "cell_type": "code",
   "execution_count": 75,
   "id": "165911ad-0b34-4ac6-adeb-35708915a313",
   "metadata": {},
   "outputs": [
    {
     "name": "stdout",
     "output_type": "stream",
     "text": [
      "782/782 [==============================] - 3s 3ms/step\n"
     ]
    },
    {
     "data": {
      "text/plain": [
       "array([[0.00540116],\n",
       "       [0.99994415],\n",
       "       [0.86779475],\n",
       "       ...,\n",
       "       [0.09820241],\n",
       "       [0.03175642],\n",
       "       [0.8201214 ]], dtype=float32)"
      ]
     },
     "execution_count": 75,
     "metadata": {},
     "output_type": "execute_result"
    }
   ],
   "source": [
    "probs = model.predict(x_test)\n",
    "probs"
   ]
  },
  {
   "cell_type": "code",
   "execution_count": 76,
   "id": "e05f62f2-2b7c-48b7-bf12-3a38c6a4590e",
   "metadata": {},
   "outputs": [
    {
     "data": {
      "text/plain": [
       "array([0, 0, 0, ..., 0, 0, 0], dtype=int64)"
      ]
     },
     "execution_count": 76,
     "metadata": {},
     "output_type": "execute_result"
    }
   ],
   "source": [
    "np.argmax(probs, axis=1)"
   ]
  }
 ],
 "metadata": {
  "kernelspec": {
   "display_name": "Python 3 (ipykernel)",
   "language": "python",
   "name": "python3"
  },
  "language_info": {
   "codemirror_mode": {
    "name": "ipython",
    "version": 3
   },
   "file_extension": ".py",
   "mimetype": "text/x-python",
   "name": "python",
   "nbconvert_exporter": "python",
   "pygments_lexer": "ipython3",
   "version": "3.8.8"
  }
 },
 "nbformat": 4,
 "nbformat_minor": 5
}
