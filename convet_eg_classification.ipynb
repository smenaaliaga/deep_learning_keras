{
 "cells": [
  {
   "cell_type": "markdown",
   "id": "beaf311d-575f-4922-9855-8d9e4033c5d5",
   "metadata": {},
   "source": [
    "# Ejemplo de convet para clasificación de perros y gatos\n",
    "\n",
    "El dataset esta disponible en: www.kaggle.com/c/dogs-vs-cats/data"
   ]
  },
  {
   "cell_type": "code",
   "execution_count": 1,
   "id": "5f1c11cd-a65c-44bf-9c9d-13e3273661c4",
   "metadata": {
    "tags": []
   },
   "outputs": [],
   "source": [
    "import os, shutil"
   ]
  },
  {
   "cell_type": "code",
   "execution_count": 5,
   "id": "39917827-7d27-41a7-94cd-161a3f8b2352",
   "metadata": {
    "tags": []
   },
   "outputs": [
    {
     "data": {
      "text/plain": [
       "'/mnt/c/Users/smena/deep_learning_keras'"
      ]
     },
     "execution_count": 5,
     "metadata": {},
     "output_type": "execute_result"
    }
   ],
   "source": [
    "os.getcwd()"
   ]
  },
  {
   "cell_type": "code",
   "execution_count": 30,
   "id": "a428ceea-4c9a-4471-b64b-31fe05ad5797",
   "metadata": {
    "tags": []
   },
   "outputs": [],
   "source": [
    "path = 'data/cats_and_dogs/'"
   ]
  },
  {
   "cell_type": "code",
   "execution_count": 31,
   "id": "7c5b5814-23a7-4723-9329-c6b88ba1178f",
   "metadata": {
    "tags": []
   },
   "outputs": [
    {
     "name": "stdout",
     "output_type": "stream",
     "text": [
      "data/cats_and_dogs/con_etiqueta\n"
     ]
    }
   ],
   "source": [
    "print(path + 'con_etiqueta')"
   ]
  },
  {
   "cell_type": "markdown",
   "id": "b2453b80-bf74-46ae-9e50-d6fc1aa07bdd",
   "metadata": {},
   "source": [
    "## Data cats"
   ]
  },
  {
   "cell_type": "code",
   "execution_count": 35,
   "id": "83440044-c094-4db7-926c-94a7ce8a5f4b",
   "metadata": {},
   "outputs": [],
   "source": [
    "# train_cats_dir\n",
    "fnames = ['cat.{}.jpg'.format(i) for i in range(1000)]\n",
    "for fname in fnames:\n",
    "    src = os.path.join(path + 'con_etiqueta', fname)\n",
    "    dst = os.path.join(path + 'train_cats_dir', fname)\n",
    "    shutil.copyfile(src, dst)"
   ]
  },
  {
   "cell_type": "code",
   "execution_count": 36,
   "id": "2b598ba2-5d93-4d65-a968-cf497b3c33a1",
   "metadata": {},
   "outputs": [],
   "source": [
    "# validation_cats_dir\n",
    "fnames = ['cat.{}.jpg'.format(i) for i in range(1000, 1500)]\n",
    "for fname in fnames:\n",
    "    src = os.path.join(path + 'con_etiqueta', fname)\n",
    "    dst = os.path.join(path + 'validation_cats_dir', fname)\n",
    "    shutil.copyfile(src, dst)"
   ]
  },
  {
   "cell_type": "code",
   "execution_count": 37,
   "id": "43f4fd37-c8a8-4881-92b5-2c5a50f10e22",
   "metadata": {},
   "outputs": [],
   "source": [
    "# test_cats_dir\n",
    "fnames = ['cat.{}.jpg'.format(i) for i in range(1500, 2000)]\n",
    "for fname in fnames:\n",
    "    src = os.path.join(path + 'con_etiqueta', fname)\n",
    "    dst = os.path.join(path + 'test_cats_dir', fname)\n",
    "    shutil.copyfile(src, dst)"
   ]
  },
  {
   "cell_type": "markdown",
   "id": "71ac6a07-d9d9-438c-9a67-e9c5f29f957b",
   "metadata": {},
   "source": [
    "## Data dogs"
   ]
  },
  {
   "cell_type": "code",
   "execution_count": 38,
   "id": "f1103e2c-36c3-4960-a1eb-0009306c03d3",
   "metadata": {},
   "outputs": [],
   "source": [
    "# train_dogs_dir\n",
    "fnames = ['dog.{}.jpg'.format(i) for i in range(1000)]\n",
    "for fname in fnames:\n",
    "    src = os.path.join(path + 'con_etiqueta', fname)\n",
    "    dst = os.path.join(path + 'train_dogs_dir', fname)\n",
    "    shutil.copyfile(src, dst)"
   ]
  },
  {
   "cell_type": "code",
   "execution_count": 39,
   "id": "a7bb0507-ddf1-40cd-8e29-334976a9ca00",
   "metadata": {},
   "outputs": [],
   "source": [
    "# validation_dogs_dir\n",
    "fnames = ['dog.{}.jpg'.format(i) for i in range(1000, 1500)]\n",
    "for fname in fnames:\n",
    "    src = os.path.join(path + 'con_etiqueta', fname)\n",
    "    dst = os.path.join(path + 'validation_dogs_dir', fname)\n",
    "    shutil.copyfile(src, dst)"
   ]
  },
  {
   "cell_type": "code",
   "execution_count": 40,
   "id": "e9b17256-07a9-457e-bd64-f3560df9f4db",
   "metadata": {},
   "outputs": [],
   "source": [
    "# test_dogs_dir\n",
    "fnames = ['dog.{}.jpg'.format(i) for i in range(1500, 2000)]\n",
    "for fname in fnames:\n",
    "    src = os.path.join(path + 'con_etiqueta', fname)\n",
    "    dst = os.path.join(path + 'test_dogs_dir', fname)\n",
    "    shutil.copyfile(src, dst)"
   ]
  },
  {
   "cell_type": "raw",
   "id": "7fafe023-c39a-4b8f-b849-62f041f79eb4",
   "metadata": {
    "tags": []
   },
   "source": [
    "# Revion cantidades\n",
    "print('total training cat images: ', len(os.listdir(path + 'train_cats_dir')))\n",
    "print('total training dog images: ', len(os.listdir(path + 'train_dogs_dir')))\n",
    "\n",
    "print('total validation cat images: ', len(os.listdir(path + 'validation_cats_dir')))\n",
    "print('total validation dog images: ', len(os.listdir(path + 'validation_dogs_dir')))\n",
    "\n",
    "print('total test cat images: ', len(os.listdir(path + 'test_cats_dir')))\n",
    "print('total test cat images: ', len(os.listdir(path + 'test_cats_dir')))"
   ]
  },
  {
   "cell_type": "markdown",
   "id": "664daa84-c4cc-4994-903b-509af4fcfa30",
   "metadata": {},
   "source": [
    "## Creacion de instancia de una convets"
   ]
  },
  {
   "cell_type": "code",
   "execution_count": 49,
   "id": "030e32d9-8f0d-4978-b1b4-a33dfb581c42",
   "metadata": {
    "tags": []
   },
   "outputs": [],
   "source": [
    "from keras import layers\n",
    "from keras import models\n",
    "\n",
    "model = models.Sequential()\n",
    "model.add(layers.Conv2D(32, (3, 3), activation='relu', input_shape=(150, 150, 3)))\n",
    "model.add(layers.MaxPooling2D((2, 2)))\n",
    "model.add(layers.Conv2D(64, (3, 3), activation='relu'))\n",
    "model.add(layers.MaxPooling2D((2, 2)))\n",
    "model.add(layers.Conv2D(128, (3, 3), activation='relu'))\n",
    "model.add(layers.MaxPooling2D((2, 2)))\n",
    "model.add(layers.Flatten())\n",
    "model.add(layers.Dense(521, activation='relu'))\n",
    "model.add(layers.Dense(1, activation='sigmoid'))"
   ]
  },
  {
   "cell_type": "code",
   "execution_count": 50,
   "id": "b0d1e42b-1448-4d4a-a8f8-401f70f89a4c",
   "metadata": {
    "tags": []
   },
   "outputs": [
    {
     "name": "stdout",
     "output_type": "stream",
     "text": [
      "Model: \"sequential_4\"\n",
      "_________________________________________________________________\n",
      " Layer (type)                Output Shape              Param #   \n",
      "=================================================================\n",
      " conv2d_5 (Conv2D)           (None, 148, 148, 32)      896       \n",
      "                                                                 \n",
      " max_pooling2d_3 (MaxPoolin  (None, 74, 74, 32)        0         \n",
      " g2D)                                                            \n",
      "                                                                 \n",
      " conv2d_6 (Conv2D)           (None, 72, 72, 64)        18496     \n",
      "                                                                 \n",
      " max_pooling2d_4 (MaxPoolin  (None, 36, 36, 64)        0         \n",
      " g2D)                                                            \n",
      "                                                                 \n",
      " conv2d_7 (Conv2D)           (None, 34, 34, 128)       73856     \n",
      "                                                                 \n",
      " max_pooling2d_5 (MaxPoolin  (None, 17, 17, 128)       0         \n",
      " g2D)                                                            \n",
      "                                                                 \n",
      " flatten_1 (Flatten)         (None, 36992)             0         \n",
      "                                                                 \n",
      " dense (Dense)               (None, 521)               19273353  \n",
      "                                                                 \n",
      " dense_1 (Dense)             (None, 1)                 522       \n",
      "                                                                 \n",
      "=================================================================\n",
      "Total params: 19367123 (73.88 MB)\n",
      "Trainable params: 19367123 (73.88 MB)\n",
      "Non-trainable params: 0 (0.00 Byte)\n",
      "_________________________________________________________________\n"
     ]
    }
   ],
   "source": [
    "model.summary()"
   ]
  },
  {
   "cell_type": "code",
   "execution_count": 52,
   "id": "35bdff9f-7543-4dfd-8c62-88ee44f229e2",
   "metadata": {
    "tags": []
   },
   "outputs": [],
   "source": [
    "from keras import optimizers\n",
    "\n",
    "model.compile(loss='binary_crossentropy',\n",
    "              optimizer=optimizers.RMSprop(learning_rate=1e-4),\n",
    "              metrics=['accuracy'])"
   ]
  },
  {
   "cell_type": "code",
   "execution_count": 54,
   "id": "82e51cad-cad1-4cac-9a06-5f7f737d62c4",
   "metadata": {
    "tags": []
   },
   "outputs": [],
   "source": [
    "# Utilizar ImageDataGenerator para leer imagenes del directorio\n",
    "from keras.preprocessing.image import ImageDataGenerator\n",
    "\n",
    "train_datagen = ImageDataGenerator(rescale=1./255)\n",
    "test_datagen = ImageDataGenerator(rescale=1./255)"
   ]
  },
  {
   "cell_type": "code",
   "execution_count": 56,
   "id": "d3411d22-a4a9-41ac-8200-573fd67db78b",
   "metadata": {
    "tags": []
   },
   "outputs": [
    {
     "name": "stdout",
     "output_type": "stream",
     "text": [
      "Found 2000 images belonging to 2 classes.\n"
     ]
    }
   ],
   "source": [
    "train_generator = train_datagen.flow_from_directory(\n",
    "    path + 'train_dir',\n",
    "    target_size=(150, 150),\n",
    "    batch_size=20,\n",
    "    class_mode='binary'\n",
    ")"
   ]
  },
  {
   "cell_type": "code",
   "execution_count": 58,
   "id": "d71778da-c5a9-49ce-9fb9-5a4d9585db24",
   "metadata": {
    "tags": []
   },
   "outputs": [
    {
     "name": "stdout",
     "output_type": "stream",
     "text": [
      "Found 1000 images belonging to 2 classes.\n"
     ]
    }
   ],
   "source": [
    "# Produce:\n",
    "# lotes de imagenes RGB de 150 x 150 con forma: (20, 150 150, 3)\n",
    "# etiquetas binarias con forma: (20,)\n",
    "validation_generator = test_datagen.flow_from_directory(\n",
    "    path + 'validation_dir',\n",
    "    target_size=(150, 150),\n",
    "    batch_size=20,\n",
    "    class_mode='binary'\n",
    ") "
   ]
  },
  {
   "cell_type": "code",
   "execution_count": 61,
   "id": "1d38a616-a314-443f-bbbc-14ea81693a68",
   "metadata": {
    "tags": []
   },
   "outputs": [
    {
     "name": "stdout",
     "output_type": "stream",
     "text": [
      "data batch shape:  (20, 150, 150, 3)\n",
      "data batch shape:  (20,)\n"
     ]
    }
   ],
   "source": [
    "for data_batch, labels_batch in train_generator:\n",
    "    print('data batch shape: ', data_batch.shape)\n",
    "    print('data batch shape: ', labels_batch.shape)\n",
    "    break"
   ]
  },
  {
   "cell_type": "code",
   "execution_count": 63,
   "id": "53046c27-b21f-46fb-bc07-9d0f88731747",
   "metadata": {
    "tags": []
   },
   "outputs": [
    {
     "name": "stdout",
     "output_type": "stream",
     "text": [
      "Epoch 1/30\n",
      "100/100 [==============================] - 89s 890ms/step - loss: 0.6888 - accuracy: 0.5370 - val_loss: 0.6797 - val_accuracy: 0.5330\n",
      "Epoch 2/30\n",
      "100/100 [==============================] - 86s 857ms/step - loss: 0.6631 - accuracy: 0.5985 - val_loss: 0.6525 - val_accuracy: 0.6030\n",
      "Epoch 3/30\n",
      "100/100 [==============================] - 85s 853ms/step - loss: 0.6328 - accuracy: 0.6430 - val_loss: 0.6248 - val_accuracy: 0.6560\n",
      "Epoch 4/30\n",
      "100/100 [==============================] - 89s 886ms/step - loss: 0.5877 - accuracy: 0.6930 - val_loss: 0.5998 - val_accuracy: 0.6750\n",
      "Epoch 5/30\n",
      "100/100 [==============================] - 89s 889ms/step - loss: 0.5507 - accuracy: 0.7230 - val_loss: 0.5866 - val_accuracy: 0.6930\n",
      "Epoch 6/30\n",
      "100/100 [==============================] - 89s 889ms/step - loss: 0.5193 - accuracy: 0.7460 - val_loss: 0.5757 - val_accuracy: 0.6980\n",
      "Epoch 7/30\n",
      "100/100 [==============================] - 88s 877ms/step - loss: 0.4878 - accuracy: 0.7565 - val_loss: 0.6045 - val_accuracy: 0.6920\n",
      "Epoch 8/30\n",
      "100/100 [==============================] - 87s 872ms/step - loss: 0.4567 - accuracy: 0.7825 - val_loss: 0.5846 - val_accuracy: 0.6970\n",
      "Epoch 9/30\n",
      "100/100 [==============================] - 91s 912ms/step - loss: 0.4298 - accuracy: 0.8015 - val_loss: 0.5720 - val_accuracy: 0.7030\n",
      "Epoch 10/30\n",
      "100/100 [==============================] - 89s 888ms/step - loss: 0.3936 - accuracy: 0.8275 - val_loss: 0.6525 - val_accuracy: 0.6590\n",
      "Epoch 11/30\n",
      "100/100 [==============================] - 88s 875ms/step - loss: 0.3621 - accuracy: 0.8335 - val_loss: 0.5956 - val_accuracy: 0.7130\n",
      "Epoch 12/30\n",
      "100/100 [==============================] - 88s 876ms/step - loss: 0.3302 - accuracy: 0.8655 - val_loss: 0.5962 - val_accuracy: 0.7080\n",
      "Epoch 13/30\n",
      "100/100 [==============================] - 89s 887ms/step - loss: 0.2936 - accuracy: 0.8820 - val_loss: 0.6060 - val_accuracy: 0.7020\n",
      "Epoch 14/30\n",
      "100/100 [==============================] - 94s 944ms/step - loss: 0.2630 - accuracy: 0.8925 - val_loss: 0.6176 - val_accuracy: 0.7050\n",
      "Epoch 15/30\n",
      "100/100 [==============================] - 90s 901ms/step - loss: 0.2176 - accuracy: 0.9240 - val_loss: 0.7888 - val_accuracy: 0.7000\n",
      "Epoch 16/30\n",
      "100/100 [==============================] - 94s 943ms/step - loss: 0.1987 - accuracy: 0.9310 - val_loss: 0.7426 - val_accuracy: 0.6920\n",
      "Epoch 17/30\n",
      "100/100 [==============================] - 94s 939ms/step - loss: 0.1653 - accuracy: 0.9455 - val_loss: 0.7511 - val_accuracy: 0.7140\n",
      "Epoch 18/30\n",
      "100/100 [==============================] - 95s 949ms/step - loss: 0.1456 - accuracy: 0.9560 - val_loss: 0.7919 - val_accuracy: 0.6980\n",
      "Epoch 19/30\n",
      "100/100 [==============================] - 97s 971ms/step - loss: 0.1111 - accuracy: 0.9700 - val_loss: 0.7605 - val_accuracy: 0.6940\n",
      "Epoch 20/30\n",
      "100/100 [==============================] - 93s 933ms/step - loss: 0.0866 - accuracy: 0.9765 - val_loss: 0.7994 - val_accuracy: 0.7050\n",
      "Epoch 21/30\n",
      "100/100 [==============================] - 92s 925ms/step - loss: 0.0774 - accuracy: 0.9800 - val_loss: 0.8168 - val_accuracy: 0.7110\n",
      "Epoch 22/30\n",
      "100/100 [==============================] - 116s 1s/step - loss: 0.0519 - accuracy: 0.9890 - val_loss: 0.9010 - val_accuracy: 0.6870\n",
      "Epoch 23/30\n",
      "100/100 [==============================] - 94s 943ms/step - loss: 0.0542 - accuracy: 0.9850 - val_loss: 0.9434 - val_accuracy: 0.6990\n",
      "Epoch 24/30\n",
      "100/100 [==============================] - 93s 931ms/step - loss: 0.0249 - accuracy: 0.9960 - val_loss: 1.0236 - val_accuracy: 0.7070\n",
      "Epoch 25/30\n",
      "100/100 [==============================] - 106s 1s/step - loss: 0.0233 - accuracy: 0.9950 - val_loss: 1.0617 - val_accuracy: 0.7010\n",
      "Epoch 26/30\n",
      "100/100 [==============================] - 80s 802ms/step - loss: 0.0206 - accuracy: 0.9955 - val_loss: 1.1146 - val_accuracy: 0.7020\n",
      "Epoch 27/30\n",
      "100/100 [==============================] - 72s 720ms/step - loss: 0.0064 - accuracy: 1.0000 - val_loss: 1.3417 - val_accuracy: 0.6930\n",
      "Epoch 28/30\n",
      "100/100 [==============================] - 73s 727ms/step - loss: 0.0455 - accuracy: 0.9925 - val_loss: 1.2486 - val_accuracy: 0.6950\n",
      "Epoch 29/30\n",
      "100/100 [==============================] - 70s 695ms/step - loss: 0.0032 - accuracy: 1.0000 - val_loss: 1.4076 - val_accuracy: 0.7000\n",
      "Epoch 30/30\n",
      "100/100 [==============================] - 69s 694ms/step - loss: 0.0191 - accuracy: 0.9955 - val_loss: 1.3182 - val_accuracy: 0.7010\n"
     ]
    }
   ],
   "source": [
    "# Ajuste del modelo utilizando un generador por lotes\n",
    "history = model.fit(\n",
    "    train_generator,\n",
    "    steps_per_epoch=100,\n",
    "    epochs=30,\n",
    "    validation_data=validation_generator,\n",
    "    validation_steps=50\n",
    ")"
   ]
  },
  {
   "cell_type": "code",
   "execution_count": 67,
   "id": "9c8c4cc0-1fde-4f8e-9019-bff8dc0ff8c8",
   "metadata": {
    "tags": []
   },
   "outputs": [],
   "source": [
    "# Guardar el modelo\n",
    "model.save('models/cats_and_dogs_small_1.keras')"
   ]
  },
  {
   "cell_type": "code",
   "execution_count": 69,
   "id": "afdbf509-c9f3-462a-a4a1-f5c34da41f73",
   "metadata": {
    "tags": []
   },
   "outputs": [
    {
     "data": {
      "image/png": "[encoded data removed]",
      "text/plain": [
       "<Figure size 640x480 with 1 Axes>"
      ]
     },
     "metadata": {},
     "output_type": "display_data"
    },
    {
     "data": {
      "image/png": "[encoded data removed]",
      "text/plain": [
       "<Figure size 640x480 with 1 Axes>"
      ]
     },
     "metadata": {},
     "output_type": "display_data"
    }
   ],
   "source": [
    "# Plot de curvas de perdida y exactitud durante el entrenamiento\n",
    "import matplotlib.pyplot as plt\n",
    "\n",
    "acc = history.history['accuracy']\n",
    "val_acc = history.history['val_accuracy']\n",
    "loss = history.history['loss']\n",
    "val_loss = history.history['val_loss']\n",
    "\n",
    "epochs = range(1, len(acc) + 1)\n",
    "\n",
    "plt.plot(epochs, acc, 'bo', label='Training acc')\n",
    "plt.plot(epochs, val_acc, 'b', label='Validation acc')\n",
    "plt.title('Training and Validation accuracy')\n",
    "plt.legend()\n",
    "\n",
    "plt.figure()\n",
    "\n",
    "plt.plot(epochs, loss, 'bo', label='Training loss')\n",
    "plt.plot(epochs, val_loss, 'b', label='Validation loss')\n",
    "plt.title('Training and Validation loss')\n",
    "plt.legend()\n",
    "\n",
    "plt.show()"
   ]
  }
 ],
 "metadata": {
  "kernelspec": {
   "display_name": "Python 3 (ipykernel)",
   "language": "python",
   "name": "python3"
  },
  "language_info": {
   "codemirror_mode": {
    "name": "ipython",
    "version": 3
   },
   "file_extension": ".py",
   "mimetype": "text/x-python",
   "name": "python",
   "nbconvert_exporter": "python",
   "pygments_lexer": "ipython3",
   "version": "3.11.4"
  }
 },
 "nbformat": 4,
 "nbformat_minor": 5
}
